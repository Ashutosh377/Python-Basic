{
 "cells": [
  {
   "cell_type": "markdown",
   "id": "a3920010-5bbb-460b-bf38-66ddc379f5f5",
   "metadata": {},
   "source": [
    "# HIGH ORDER FUNCTION\n",
    "## map( )    filter( )    reduce( )"
   ]
  },
  {
   "cell_type": "markdown",
   "id": "399fa311-abe7-420c-bc0c-6445266255b3",
   "metadata": {},
   "source": [
    "#### def capitalise(key_value):\n",
    "#### unpacking.<-------- key,value=key-value\n",
    "####  return (key.capitalize(),value)\n",
    "### d= dict(map(capitalise,d.items())"
   ]
  },
  {
   "cell_type": "markdown",
   "id": "a1f67c49-7606-4306-a948-22a789bd2c8b",
   "metadata": {},
   "source": [
    "d={\"name\":\"ashu\",\"age\":21}\n",
    "def capitalise(x):\n",
    "    a,b=x\n",
    "    return(x.capitalise(),b)\n",
    "d= dict(map(capitalise,d.items()))"
   ]
  },
  {
   "cell_type": "code",
   "execution_count": 25,
   "id": "90cb293e-3819-4d34-b9d0-b69e084f50e0",
   "metadata": {},
   "outputs": [
    {
     "data": {
      "text/plain": [
       "{'name': 'ashu', 'age': 21, 'grade': 87.5, 'pass': True}"
      ]
     },
     "execution_count": 25,
     "metadata": {},
     "output_type": "execute_result"
    }
   ],
   "source": [
    "d"
   ]
  },
  {
   "cell_type": "code",
   "execution_count": 42,
   "id": "97c51e61-a734-4685-94ad-486e9fc00453",
   "metadata": {},
   "outputs": [],
   "source": [
    "#lambda= anonymous function"
   ]
  },
  {
   "cell_type": "code",
   "execution_count": 56,
   "id": "d348699b-8b99-4a80-91fc-a4af011cc011",
   "metadata": {},
   "outputs": [
    {
     "name": "stdout",
     "output_type": "stream",
     "text": [
      "{'a': 10, 'b': 11, 'd': 12}\n"
     ]
    }
   ],
   "source": [
    "x1={\"a\":10,\"b\":11,\"c\":21,\"d\":12}\n",
    "x2=dict(filter(lambda i:i[1] < 15,x1.items()))\n",
    "print(x2)"
   ]
  },
  {
   "cell_type": "code",
   "execution_count": 70,
   "id": "84f78484-2afc-487a-a77c-b08caf4c6e18",
   "metadata": {},
   "outputs": [
    {
     "name": "stdout",
     "output_type": "stream",
     "text": [
      "{'b': 11}\n"
     ]
    }
   ],
   "source": [
    "x1=m1={\"a\":\"rohit\",\"b\":\"mohit\",\"c\":\"rahul\"}\n",
    "m2=dict(filter(lambda k:k[1][0]==\"r\",x1.items()))\n",
    "print(m2)\n",
    "x2=dict(filter(lambda k:k[0]==\"b\",x1.items()))\n",
    "print(x2)"
   ]
  },
  {
   "cell_type": "code",
   "execution_count": 102,
   "id": "a2452e66-e222-47c1-b47a-d61a811af948",
   "metadata": {},
   "outputs": [
    {
     "name": "stdout",
     "output_type": "stream",
     "text": [
      "{'a': 'rohit', 'c': 'rahul'}\n"
     ]
    }
   ],
   "source": [
    "m1={\"a\":\"rohit\",\"b\":\"mohit\",\"c\":\"rahul\"}\n",
    "m2=dict(filter(lambda item:item[1][0]==\"r\",m1.items()))\n",
    "print(m2)"
   ]
  },
  {
   "cell_type": "code",
   "execution_count": 98,
   "id": "fb7fda66-1959-4912-ae14-51328a983593",
   "metadata": {},
   "outputs": [],
   "source": [
    "# reduce()----> accumulating values across dictionary"
   ]
  },
  {
   "cell_type": "code",
   "execution_count": 118,
   "id": "32999a57-dcbb-48f7-922e-833709dd1949",
   "metadata": {},
   "outputs": [
    {
     "data": {
      "text/plain": [
       "27720"
      ]
     },
     "execution_count": 118,
     "metadata": {},
     "output_type": "execute_result"
    }
   ],
   "source": [
    "from functools import reduce\n",
    "a1={\"a\":10,\"b\":11,\"c\":21,\"d\":12}\n",
    "b1=reduce(lambda x,y:x*y,a1.values())\n",
    "b1"
   ]
  },
  {
   "cell_type": "code",
   "execution_count": 120,
   "id": "c2484aa4-fad2-432d-afd0-5d59b06e9862",
   "metadata": {},
   "outputs": [],
   "source": []
  },
  {
   "cell_type": "markdown",
   "id": "6d3072ea-91da-499b-b88b-5b88f36fae1d",
   "metadata": {},
   "source": [
    "### sorted function for sorting a dictionary"
   ]
  },
  {
   "cell_type": "code",
   "execution_count": 134,
   "id": "c7f30e09-9094-4c03-b3ff-513f58b7c29a",
   "metadata": {},
   "outputs": [
    {
     "name": "stdout",
     "output_type": "stream",
     "text": [
      "{'c': 5, 'a': 10, 'b': 12, 'd': 21}\n"
     ]
    }
   ],
   "source": [
    "p1={\"a\":10,\"c\":5,\"d\":21,\"b\":12}\n",
    "p2=dict(sorted(p1.items(),key=lambda item:item[1]))\n",
    "print(p2)"
   ]
  },
  {
   "cell_type": "code",
   "execution_count": 136,
   "id": "e4fc8201-3ef9-4f3e-b255-cc1f06fe17a4",
   "metadata": {},
   "outputs": [
    {
     "name": "stdout",
     "output_type": "stream",
     "text": [
      "{'a': 10, 'b': 12, 'c': 5, 'd': 21}\n"
     ]
    }
   ],
   "source": [
    "p1={\"a\":10,\"c\":5,\"d\":21,\"b\":12}\n",
    "p2=dict(sorted(p1.items(),key=lambda item:item[0]))\n",
    "print(p2)"
   ]
  },
  {
   "cell_type": "markdown",
   "id": "5647c160-bcca-4eb7-9ab0-3692ebe723b1",
   "metadata": {},
   "source": [
    "## simple inventory system in healthcare"
   ]
  },
  {
   "cell_type": "code",
   "execution_count": 2,
   "id": "be9a7c04-644d-4705-99cd-70ea7f8c4bb5",
   "metadata": {},
   "outputs": [],
   "source": [
    "inventory={\n",
    "    \"aspirin\":{\"category\":\"medication\",\"stock\":100,\"unit_price\":5.0},\n",
    "    \"syringe\":{\"category\":\"medical equipment\",\"stock\":50,\"unit_price\":1.5},\n",
    "    \"bandage\":{\"category\":\"medical supplies\",\"stock\":200,\"unit_price\":0.5},\n",
    "    \"gloves\":{\"category\":\"personal protective equipment\",\"stock\":300,\"unit_price\":0.2}\n",
    "}\n",
    "    "
   ]
  },
  {
   "cell_type": "code",
   "execution_count": 3,
   "id": "ddb7f618-fdd8-4b98-9c54-6bea1decfa7f",
   "metadata": {},
   "outputs": [
    {
     "data": {
      "text/plain": [
       "{'aspirin': {'category': 'medication', 'stock': 100, 'unit_price': 5.0},\n",
       " 'syringe': {'category': 'medical equipment', 'stock': 50, 'unit_price': 1.5},\n",
       " 'bandage': {'category': 'medical supplies', 'stock': 200, 'unit_price': 0.5},\n",
       " 'gloves': {'category': 'personal protective equipment',\n",
       "  'stock': 300,\n",
       "  'unit_price': 0.2}}"
      ]
     },
     "execution_count": 3,
     "metadata": {},
     "output_type": "execute_result"
    }
   ],
   "source": [
    "inventory"
   ]
  },
  {
   "cell_type": "code",
   "execution_count": 4,
   "id": "c7d7edb2-992b-45ce-aede-7f17dc2527ce",
   "metadata": {},
   "outputs": [],
   "source": [
    "def display_inventory():\n",
    "    print(\"Current Inventory:\")\n",
    "    for item, details in inventory.items():\n",
    "        print(f\"{item}: {details['category']}, Stock: {details['stock']}, Price: ${details['unit_price']}\")"
   ]
  },
  {
   "cell_type": "code",
   "execution_count": 8,
   "id": "b80c4b89-97a7-41a5-a282-e109582c2b5b",
   "metadata": {},
   "outputs": [
    {
     "name": "stdout",
     "output_type": "stream",
     "text": [
      "Current Inventory:\n",
      "aspirin: medication, Stock: 100, Price: $5.0\n",
      "syringe: medical equipment, Stock: 50, Price: $1.5\n",
      "bandage: medical supplies, Stock: 200, Price: $0.5\n",
      "gloves: personal protective equipment, Stock: 300, Price: $0.2\n"
     ]
    }
   ],
   "source": [
    "display_inventory()"
   ]
  },
  {
   "cell_type": "code",
   "execution_count": 10,
   "id": "b16db3b8-cf92-4b14-918f-4462f4e99517",
   "metadata": {},
   "outputs": [],
   "source": [
    "def add_item(item_name, category, stock, unit_price):\n",
    "    if item_name not in inventory:\n",
    "        inventory [item_name] = {\"category\": category, \"stock\": stock, \"unit_price\": unit_price}\n",
    "        print(f\"\\nItem '{item_name}' has been added to the inventory.\")\n",
    "    else:\n",
    "        print(f\"\\nItem '{item_name}' already exists in the inventory.\")"
   ]
  },
  {
   "cell_type": "code",
   "execution_count": 12,
   "id": "5eabe24c-f8ab-4ba8-b3fe-dabaff52e438",
   "metadata": {},
   "outputs": [
    {
     "name": "stdout",
     "output_type": "stream",
     "text": [
      "\n",
      "Item 'cream' has been added to the inventory.\n"
     ]
    }
   ],
   "source": [
    "add_item(\"cream\",\"medication\",150,3.0)"
   ]
  },
  {
   "cell_type": "code",
   "execution_count": 14,
   "id": "00d3914e-c0ef-403b-b819-e3afd972730e",
   "metadata": {},
   "outputs": [
    {
     "name": "stdout",
     "output_type": "stream",
     "text": [
      "\n",
      "Item 'bandage' already exists in the inventory.\n"
     ]
    }
   ],
   "source": [
    "add_item(\"bandage\",\"medication\",150,3.0)"
   ]
  },
  {
   "cell_type": "code",
   "execution_count": 16,
   "id": "97603216-ac31-47bf-a269-a258d307ba5e",
   "metadata": {},
   "outputs": [],
   "source": [
    "def update_stock(item_name,quantity):\n",
    "    if item_name in inventory:\n",
    "        inventory[item_name][\"stock\"]+=quantity\n",
    "        print(f\"updated for {item_name} and new stock is: {quantity}\")\n",
    "    else:\n",
    "        print(f\"not updated because {item_name} not exist\")\n",
    "        \n",
    "        "
   ]
  },
  {
   "cell_type": "code",
   "execution_count": 18,
   "id": "91e44e22-249b-407a-8058-f07fcb79987e",
   "metadata": {},
   "outputs": [
    {
     "name": "stdout",
     "output_type": "stream",
     "text": [
      "updated for gloves and new stock is: 300\n"
     ]
    }
   ],
   "source": [
    "update_stock(\"gloves\",300)"
   ]
  },
  {
   "cell_type": "code",
   "execution_count": 20,
   "id": "68217c8a-cd80-4cf9-9bb5-35bd49b0aa12",
   "metadata": {},
   "outputs": [
    {
     "name": "stdout",
     "output_type": "stream",
     "text": [
      "not updated because senitizer not exist\n"
     ]
    }
   ],
   "source": [
    "update_stock(\"senitizer\",300)"
   ]
  },
  {
   "cell_type": "code",
   "execution_count": 22,
   "id": "fb73b97e-13ff-41f6-8a76-25e3a548b6b0",
   "metadata": {},
   "outputs": [
    {
     "name": "stdout",
     "output_type": "stream",
     "text": [
      "Current Inventory:\n",
      "aspirin: medication, Stock: 100, Price: $5.0\n",
      "syringe: medical equipment, Stock: 50, Price: $1.5\n",
      "bandage: medical supplies, Stock: 200, Price: $0.5\n",
      "gloves: personal protective equipment, Stock: 600, Price: $0.2\n",
      "cream: medication, Stock: 150, Price: $3.0\n"
     ]
    }
   ],
   "source": [
    "display_inventory()"
   ]
  },
  {
   "cell_type": "code",
   "execution_count": 24,
   "id": "685dd119-e2f0-4138-9c53-8f9122bc6c99",
   "metadata": {},
   "outputs": [],
   "source": [
    "def update_price(item_name,new_price):\n",
    "      if item_name in inventory:\n",
    "        inventory[item_name][\"unit_price\"]+=new_price\n",
    "        print(f\"Updated for {item_name} and new price is:${new_price}\")\n",
    "      else:\n",
    "          print(f\"Not updated because {item_name} does not exist\")"
   ]
  },
  {
   "cell_type": "code",
   "execution_count": 26,
   "id": "8aabfecf-802f-4802-9628-6e2df4e621f9",
   "metadata": {},
   "outputs": [
    {
     "name": "stdout",
     "output_type": "stream",
     "text": [
      "Updated for syringe and new price is:$2.0\n",
      "Not updated because senitizer does not exist\n"
     ]
    }
   ],
   "source": [
    "update_price(\"syringe\",2.0)\n",
    "update_price(\"senitizer\",3)"
   ]
  },
  {
   "cell_type": "code",
   "execution_count": 28,
   "id": "55490a48-96cf-4ce9-8127-7ba85d58751d",
   "metadata": {},
   "outputs": [
    {
     "name": "stdout",
     "output_type": "stream",
     "text": [
      "Current Inventory:\n",
      "aspirin: medication, Stock: 100, Price: $5.0\n",
      "syringe: medical equipment, Stock: 50, Price: $3.5\n",
      "bandage: medical supplies, Stock: 200, Price: $0.5\n",
      "gloves: personal protective equipment, Stock: 600, Price: $0.2\n",
      "cream: medication, Stock: 150, Price: $3.0\n"
     ]
    }
   ],
   "source": [
    "display_inventory()"
   ]
  },
  {
   "cell_type": "code",
   "execution_count": 30,
   "id": "b4ef31f3-5796-4c68-b3a1-c34b85fc349e",
   "metadata": {},
   "outputs": [],
   "source": [
    "def remove_item(item_name):\n",
    "    if item_name in inventory:\n",
    "        del inventory[item_name]\n",
    "        print(f\"{item_name} has been removed\")\n",
    "    else:\n",
    "        print(f\"can't find the {item_name}\")"
   ]
  },
  {
   "cell_type": "code",
   "execution_count": 32,
   "id": "f2b2c5fb-e3f2-48e8-892e-8bfb7d0bc16d",
   "metadata": {},
   "outputs": [
    {
     "name": "stdout",
     "output_type": "stream",
     "text": [
      "cream has been removed\n",
      "can't find the sanitizer\n"
     ]
    }
   ],
   "source": [
    "remove_item(\"cream\")\n",
    "remove_item(\"sanitizer\")"
   ]
  },
  {
   "cell_type": "code",
   "execution_count": 34,
   "id": "4f2186a8-a4cc-41c9-9485-4c0c65575147",
   "metadata": {},
   "outputs": [
    {
     "name": "stdout",
     "output_type": "stream",
     "text": [
      "Current Inventory:\n",
      "aspirin: medication, Stock: 100, Price: $5.0\n",
      "syringe: medical equipment, Stock: 50, Price: $3.5\n",
      "bandage: medical supplies, Stock: 200, Price: $0.5\n",
      "gloves: personal protective equipment, Stock: 600, Price: $0.2\n"
     ]
    }
   ],
   "source": [
    "display_inventory()"
   ]
  },
  {
   "cell_type": "code",
   "execution_count": 42,
   "id": "4925d00b-c01b-4768-b227-38c8bd3a4dd4",
   "metadata": {},
   "outputs": [
    {
     "name": "stdout",
     "output_type": "stream",
     "text": [
      "\n",
      "--- Healthcare Inventory System ---\n",
      "1. Display Inventory\n",
      "2. Add Item\n",
      "3. Update Stock\n",
      "4. Update Price\n",
      "5. Remove Item\n",
      "6. Exit\n"
     ]
    },
    {
     "name": "stdin",
     "output_type": "stream",
     "text": [
      "Please select an option (1-6):  4\n",
      "Enter item name to update price:  syringe\n",
      "Enter new unit price:  4\n"
     ]
    },
    {
     "name": "stdout",
     "output_type": "stream",
     "text": [
      "Updated for syringe and new price is:$4.0\n",
      "\n",
      "--- Healthcare Inventory System ---\n",
      "1. Display Inventory\n",
      "2. Add Item\n",
      "3. Update Stock\n",
      "4. Update Price\n",
      "5. Remove Item\n",
      "6. Exit\n"
     ]
    },
    {
     "name": "stdin",
     "output_type": "stream",
     "text": [
      "Please select an option (1-6):  6\n"
     ]
    },
    {
     "name": "stdout",
     "output_type": "stream",
     "text": [
      "Exiting the system...\n"
     ]
    }
   ],
   "source": [
    "while True:\n",
    "    print(\"\\n--- Healthcare Inventory System ---\")\n",
    "    print(\"1. Display Inventory\")\n",
    "    print(\"2. Add Item\")\n",
    "    print(\"3. Update Stock\")\n",
    "    print(\"4. Update Price\")\n",
    "    print(\"5. Remove Item\")\n",
    "    print(\"6. Exit\")\n",
    "    choice = input(\"Please select an option (1-6): \")\n",
    "    if choice == '1':\n",
    "        display_inventory()\n",
    "    elif choice == '2':\n",
    "        item_name = input(\"Enter item name: \")\n",
    "        category = input(\"Enter category: \")\n",
    "        stock = int(input(\"Enter stock quantity: \"))\n",
    "        unit_price = float(input(\"Enter unit price: \"))\n",
    "        add_item(item_name, category, stock, unit_price)\n",
    "    elif choice == '3':\n",
    "        item_name = input(\"Enter item name to update stock: \")\n",
    "        new_stock = int(input(\"Enter new stock quantity: \"))\n",
    "        update_stock(item_name, new_stock)\n",
    "    elif choice == '4':\n",
    "        item_name = input(\"Enter item name to update price: \")\n",
    "        new_price = float(input(\"Enter new unit price: \"))\n",
    "        update_price(item_name, new_price)\n",
    "    elif choice == '5':\n",
    "        item_name = input(\"Enter item name to remove: \")\n",
    "        remove_item(item_name)\n",
    "    elif choice == '6':\n",
    "        print(\"Exiting the system...\")\n",
    "        break\n",
    "    else:\n",
    "        print(\"Invalid choice. Please select an option (1-6).\")"
   ]
  },
  {
   "cell_type": "code",
   "execution_count": null,
   "id": "11dec990-6265-4620-bf39-62cfeb45ed04",
   "metadata": {},
   "outputs": [],
   "source": []
  },
  {
   "cell_type": "code",
   "execution_count": null,
   "id": "3939547d-0618-46aa-9167-48d1b200124b",
   "metadata": {},
   "outputs": [],
   "source": []
  },
  {
   "cell_type": "markdown",
   "id": "35e3cb2d-726e-4888-9aa4-9ba234228f89",
   "metadata": {},
   "source": [
    "### high order function in list"
   ]
  },
  {
   "cell_type": "markdown",
   "id": "29ebf728-50cd-4ba9-bf49-f2d520659ca9",
   "metadata": {},
   "source": [
    "### map( )"
   ]
  },
  {
   "cell_type": "code",
   "execution_count": 102,
   "id": "38f6dd0b-b424-4222-a8de-b48ca0094fae",
   "metadata": {},
   "outputs": [
    {
     "name": "stdout",
     "output_type": "stream",
     "text": [
      "['odd', 'even', 'odd', 'odd', 'odd', 'even', 'even', 'even', 'odd', 'even', 'even', 'odd', 'odd']\n"
     ]
    }
   ],
   "source": [
    "l=[1,2,3,5,7,4,6,8,9,10,12,11,13]\n",
    "newl=list(map(lambda x:\"even\" if x%2==0 else \"odd\" ,l))\n",
    "print(newl)"
   ]
  },
  {
   "cell_type": "code",
   "execution_count": 67,
   "id": "bdcbe5ce-7e22-4eb0-8223-c9e8bd3f5b73",
   "metadata": {},
   "outputs": [
    {
     "name": "stdout",
     "output_type": "stream",
     "text": [
      "[2, 4, 6, 8, 10, 12, 14, 16, 18, 20]\n"
     ]
    }
   ],
   "source": [
    "l=[1,2,3,4,5,6,7,8,9,10]\n",
    "l1=list(map(lambda x: x*2,l))\n",
    "print(l1)\n"
   ]
  },
  {
   "cell_type": "code",
   "execution_count": 79,
   "id": "96419c87-1ded-46ec-8804-0873a03781f9",
   "metadata": {},
   "outputs": [
    {
     "name": "stdout",
     "output_type": "stream",
     "text": [
      "[False, False, False, False, False, True, True, True, True, True]\n"
     ]
    }
   ],
   "source": [
    "l=[1,2,3,4,5,6,7,8,9,10]\n",
    "l2=list(map(lambda x:x>5,l))\n",
    "print(l2)"
   ]
  },
  {
   "cell_type": "code",
   "execution_count": 98,
   "id": "283dbb06-1af3-4749-acec-0508e068db75",
   "metadata": {},
   "outputs": [
    {
     "name": "stdout",
     "output_type": "stream",
     "text": [
      "['fail', 'fail', 'pass', 'pass', 'pass', 'pass']\n"
     ]
    }
   ],
   "source": [
    "marks=[30,25,79,90,86,63]\n",
    "result=list(map(lambda x: \"pass\" if x>=33 else \"fail\",marks))\n",
    "print(result)"
   ]
  },
  {
   "cell_type": "markdown",
   "id": "bff5a4f7-b2a4-427f-9e27-991885fcd5ca",
   "metadata": {},
   "source": [
    "### Filter( )"
   ]
  },
  {
   "cell_type": "code",
   "execution_count": 96,
   "id": "10b852ad-99d2-4aa9-a6c8-4fa6645aa866",
   "metadata": {},
   "outputs": [
    {
     "name": "stdout",
     "output_type": "stream",
     "text": [
      "[30, 25, 79, 90, 86, 63]\n"
     ]
    }
   ],
   "source": [
    "marks=[30,25,79,90,86,63]\n",
    "result=list(filter(lambda x: x>=33 ,marks))\n",
    "print(result)"
   ]
  },
  {
   "cell_type": "code",
   "execution_count": 90,
   "id": "bda91a6d-4583-42ef-a73b-3c0066fd3ae0",
   "metadata": {},
   "outputs": [
    {
     "name": "stdout",
     "output_type": "stream",
     "text": [
      "[2, 4, 6, 8, 10]\n"
     ]
    }
   ],
   "source": [
    "l=[1,2,3,4,5,6,7,8,9,10]\n",
    "newl=list(filter(lambda x: x%2==0,l))\n",
    "print(newl)"
   ]
  },
  {
   "cell_type": "markdown",
   "id": "36d7cf0f-2434-41a2-a8f7-30c46b9e671d",
   "metadata": {},
   "source": [
    "### Reduce( )"
   ]
  },
  {
   "cell_type": "code",
   "execution_count": 4,
   "id": "a5cda72b-0df8-4246-8857-36f8ee43e9b0",
   "metadata": {},
   "outputs": [],
   "source": [
    "from functools import reduce"
   ]
  },
  {
   "cell_type": "code",
   "execution_count": 6,
   "id": "2cdda16e-e027-4b55-b883-c3f6d49967be",
   "metadata": {},
   "outputs": [
    {
     "name": "stdout",
     "output_type": "stream",
     "text": [
      "150\n"
     ]
    }
   ],
   "source": [
    "a=[10,20,30,40,50]\n",
    "b=reduce(lambda x,y: x+y, a)\n",
    "print (b)\n",
    "#10+20,30,40,50\n",
    "#30+30,40,50\n",
    "#60+40,50\n",
    "#100+50"
   ]
  },
  {
   "cell_type": "code",
   "execution_count": 8,
   "id": "02f2721b-5fc8-4e37-942b-c7238c19df38",
   "metadata": {},
   "outputs": [
    {
     "name": "stdout",
     "output_type": "stream",
     "text": [
      "12000000\n"
     ]
    }
   ],
   "source": [
    "a=[10,20,30,40,50]\n",
    "b=reduce(lambda x,y: x*y, a)\n",
    "print (b)"
   ]
  },
  {
   "cell_type": "code",
   "execution_count": null,
   "id": "b3085289-9972-44a2-934d-8544e7a630ad",
   "metadata": {},
   "outputs": [],
   "source": []
  }
 ],
 "metadata": {
  "kernelspec": {
   "display_name": "Python [conda env:base] *",
   "language": "python",
   "name": "conda-base-py"
  },
  "language_info": {
   "codemirror_mode": {
    "name": "ipython",
    "version": 3
   },
   "file_extension": ".py",
   "mimetype": "text/x-python",
   "name": "python",
   "nbconvert_exporter": "python",
   "pygments_lexer": "ipython3",
   "version": "3.12.7"
  }
 },
 "nbformat": 4,
 "nbformat_minor": 5
}
