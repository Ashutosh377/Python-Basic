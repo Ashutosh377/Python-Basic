{
 "cells": [
  {
   "cell_type": "markdown",
   "id": "afefe099-f54a-4a11-9e55-fe27b297c862",
   "metadata": {},
   "source": [
    "## Function\n",
    "def function_name(n1,n2....n):\n",
    "\n",
    "multiple value can be returned in function\n"
   ]
  },
  {
   "cell_type": "code",
   "execution_count": 21,
   "id": "ccf7cd82-4e01-47a4-9696-795c6b1c2122",
   "metadata": {},
   "outputs": [
    {
     "data": {
      "text/plain": [
       "(9, 20)"
      ]
     },
     "execution_count": 21,
     "metadata": {},
     "output_type": "execute_result"
    }
   ],
   "source": [
    "def arith(x,y):\n",
    "    s=x+y\n",
    "    m=x*y\n",
    "    return (s,m)\n",
    "    \n",
    "x=4\n",
    "y=5\n",
    "arith(x,y)"
   ]
  },
  {
   "cell_type": "code",
   "execution_count": 49,
   "id": "f8fb7c98-174f-44ea-a546-20f85d6a0511",
   "metadata": {},
   "outputs": [],
   "source": [
    "def withdraw_amount():\n",
    "    cash=int(input(\"Enter withdrawl amount\"))\n",
    "    current_balance=display_current_balance()\n",
    "    new_bal=current_balance-cash\n",
    "    print(\"Balance after withdrawl\",new_bal)\n",
    "def display_current_balance():\n",
    "    current_balance=int(input(\"Enter current balance\"))\n",
    "    return current_balance\n",
    "\n",
    "    "
   ]
  },
  {
   "cell_type": "code",
   "execution_count": 51,
   "id": "1edde897-3f96-4d9a-ab09-a88fe6022375",
   "metadata": {},
   "outputs": [
    {
     "name": "stdin",
     "output_type": "stream",
     "text": [
      "Enter withdrawl amount 5000\n",
      "Enter current balance 9000\n"
     ]
    },
    {
     "name": "stdout",
     "output_type": "stream",
     "text": [
      "Balance after withdrawl 4000\n"
     ]
    }
   ],
   "source": [
    "withdraw_amount()"
   ]
  },
  {
   "cell_type": "markdown",
   "id": "d56f526d-5689-40ae-9a0c-96ab18a7ee31",
   "metadata": {},
   "source": [
    "## Local and Global \n",
    "global variable can be used at anywhere.\n",
    "\n",
    "local variable existence is within the function not outside."
   ]
  },
  {
   "cell_type": "code",
   "execution_count": 25,
   "id": "27042f1e-bc1a-4a7b-8435-3d242ab33d55",
   "metadata": {},
   "outputs": [
    {
     "name": "stdout",
     "output_type": "stream",
     "text": [
      "4 10\n",
      "14\n"
     ]
    }
   ],
   "source": [
    "x=10#global variable\n",
    "y=20#global variable\n",
    "def arith(x,y):#local variable\n",
    "    s=x+y\n",
    "    print(x,y)\n",
    "    return (s)\n",
    "    \n",
    "var1=arith(4,10)\n",
    "print(var1)"
   ]
  },
  {
   "cell_type": "code",
   "execution_count": 21,
   "id": "934f9d7e-9476-4ee9-863f-a518a45d1373",
   "metadata": {},
   "outputs": [
    {
     "name": "stdout",
     "output_type": "stream",
     "text": [
      "10 20\n",
      "30\n"
     ]
    }
   ],
   "source": [
    "var2=arith(x,y)\n",
    "print(var2)"
   ]
  },
  {
   "cell_type": "code",
   "execution_count": 23,
   "id": "c91629bf-1013-4eca-a10d-1de5cbabd10a",
   "metadata": {},
   "outputs": [
    {
     "name": "stdout",
     "output_type": "stream",
     "text": [
      "10 20\n"
     ]
    }
   ],
   "source": [
    "print(x,y)"
   ]
  },
  {
   "cell_type": "markdown",
   "id": "6d202b4d-b7a6-41bc-a343-979f367ddf58",
   "metadata": {},
   "source": [
    "## Global command\n",
    "if we want to use local variable ouside the function"
   ]
  },
  {
   "cell_type": "code",
   "execution_count": 60,
   "id": "91a77f91-c12b-43a6-9c36-15b2a7bf575c",
   "metadata": {},
   "outputs": [],
   "source": [
    "def arith(x,y):#local variable\n",
    "    s=x+y\n",
    "    modify_global()\n",
    "    print (x,y)\n",
    "    return (s)"
   ]
  },
  {
   "cell_type": "code",
   "execution_count": 62,
   "id": "550421cb-e084-4f1f-b922-73f2f649d418",
   "metadata": {},
   "outputs": [],
   "source": [
    "def modify_global():\n",
    "    global x\n",
    "    x=100\n",
    "    print(\"updated_value\",x)"
   ]
  },
  {
   "cell_type": "code",
   "execution_count": 66,
   "id": "738c0448-d2d5-4382-80f7-d7589f3e1c13",
   "metadata": {},
   "outputs": [
    {
     "name": "stdout",
     "output_type": "stream",
     "text": [
      "updated_value 100\n",
      "100 10\n",
      "110\n"
     ]
    }
   ],
   "source": [
    "var1=arith(x,10)\n",
    "print(var1)"
   ]
  },
  {
   "cell_type": "markdown",
   "id": "e6987b45-05a0-4965-803e-41c36a0b6040",
   "metadata": {},
   "source": [
    "## Arguments"
   ]
  },
  {
   "cell_type": "code",
   "execution_count": 101,
   "id": "f4921303-87f2-4333-bd9d-30ce6b082ae2",
   "metadata": {},
   "outputs": [],
   "source": [
    "def greet(name,age,country):\n",
    "    print(f\"your details are: {name}, {age}, {country}\")\n"
   ]
  },
  {
   "cell_type": "code",
   "execution_count": 89,
   "id": "521ff04a-32e2-423d-a3a1-0b350a7d883d",
   "metadata": {},
   "outputs": [
    {
     "name": "stdout",
     "output_type": "stream",
     "text": [
      "your details are: 32, john, usa\n"
     ]
    }
   ],
   "source": [
    "greet(32,\"john\",\"usa\")"
   ]
  },
  {
   "cell_type": "code",
   "execution_count": 91,
   "id": "0b4a3ffe-7048-41e8-9eb4-75138175411d",
   "metadata": {},
   "outputs": [
    {
     "name": "stdout",
     "output_type": "stream",
     "text": [
      "your details are: john, 32, USA\n"
     ]
    }
   ],
   "source": [
    "greet(\"john\",32,\"USA\")"
   ]
  },
  {
   "cell_type": "code",
   "execution_count": 105,
   "id": "9afef1f1-2247-4ea6-ad15-d48705391482",
   "metadata": {},
   "outputs": [
    {
     "name": "stdout",
     "output_type": "stream",
     "text": [
      "your details are: john, 32, USA\n"
     ]
    }
   ],
   "source": [
    "greet(age=32,country=\"USA\",name=\"john\")\n",
    "#keyword arguments/parameters"
   ]
  },
  {
   "cell_type": "code",
   "execution_count": 109,
   "id": "c047df24-d840-4741-80d5-ecc58e221e1b",
   "metadata": {},
   "outputs": [
    {
     "name": "stdout",
     "output_type": "stream",
     "text": [
      "your details are: Name: Ramu, Age: 32\n"
     ]
    }
   ],
   "source": [
    "def greet(name,age,country=\"india\"):#default arguments\n",
    "    print(f\"your details are: Name: {name}, Age: {age}\")\n",
    "\n",
    "greet(age=32,name=\"Ramu\")"
   ]
  },
  {
   "cell_type": "code",
   "execution_count": 115,
   "id": "0501750c-27c1-46b5-a8b5-d3714e77c6ff",
   "metadata": {},
   "outputs": [
    {
     "name": "stdout",
     "output_type": "stream",
     "text": [
      "<class 'tuple'>\n",
      "high\n",
      "20\n",
      "cloudy\n"
     ]
    }
   ],
   "source": [
    "def sale(*args):#variable length arguments\n",
    "    print(type(args))\n",
    "    for i in args:\n",
    "        print(i)\n",
    "\n",
    "sale(\"high\",20,\"cloudy\")\n",
    "#position sh0uld be maintained"
   ]
  },
  {
   "cell_type": "code",
   "execution_count": 143,
   "id": "1355dacf-e4b6-4543-94f6-a0c581409fe8",
   "metadata": {},
   "outputs": [
    {
     "name": "stdout",
     "output_type": "stream",
     "text": [
      "<class 'dict'>\n",
      "rain high\n",
      "discount 20\n",
      "weather cloudy\n"
     ]
    }
   ],
   "source": [
    "def sale1(**kwargs):\n",
    "    print(type(kwargs))\n",
    "    for i,j in kwargs.items():\n",
    "        print(i,j)\n",
    "    \n",
    "sale1(rain=\"high\",discount=20,weather=\"cloudy\")"
   ]
  },
  {
   "cell_type": "code",
   "execution_count": 199,
   "id": "ad1b6c9c-0dd2-4921-91f3-2ab4885e7a15",
   "metadata": {},
   "outputs": [
    {
     "name": "stdout",
     "output_type": "stream",
     "text": [
      "Nmae: john ,Age: 22 ,Hobbies: ('Football', 'swimming', 'basketball') ,other_details: ('gender', 'male')\n",
      "Nmae: john ,Age: 22 ,Hobbies: ('Football', 'swimming', 'basketball') ,other_details: ('role', 'developer')\n"
     ]
    }
   ],
   "source": [
    "def person(name, age , *hobbies, country=\"INDIA\",**other_details):\n",
    "    for i in other_details.items():\n",
    "        print(f\"Nmae: {name} ,Age: {age} ,Hobbies: {hobbies} ,other_details: {i}\")\n",
    "person(\"john\",22,\"Football\",\"swimming\",\"basketball\",gender=\"male\",role=\"developer\")"
   ]
  },
  {
   "cell_type": "markdown",
   "id": "717b5089-e8ed-4c9c-a664-8e3d25dbe974",
   "metadata": {},
   "source": [
    "## Nested function"
   ]
  },
  {
   "cell_type": "code",
   "execution_count": 226,
   "id": "2237c9aa-a331-423f-9d15-1c56e1ef0b8b",
   "metadata": {},
   "outputs": [],
   "source": [
    "#closure\n",
    "def outer(x):\n",
    "    def inner(y):\n",
    "        return x*y\n",
    "    return inner"
   ]
  },
  {
   "cell_type": "code",
   "execution_count": 236,
   "id": "0766a34d-8671-4065-9590-757dbdaba7d4",
   "metadata": {},
   "outputs": [
    {
     "name": "stdout",
     "output_type": "stream",
     "text": [
      "6\n"
     ]
    }
   ],
   "source": [
    "v1=outer(2)\n",
    "v2=v1(3)\n",
    "print(v2)"
   ]
  },
  {
   "cell_type": "code",
   "execution_count": null,
   "id": "f90cd54a-ce7e-402e-b7e2-653d81886e10",
   "metadata": {},
   "outputs": [],
   "source": []
  }
 ],
 "metadata": {
  "kernelspec": {
   "display_name": "Python [conda env:base] *",
   "language": "python",
   "name": "conda-base-py"
  },
  "language_info": {
   "codemirror_mode": {
    "name": "ipython",
    "version": 3
   },
   "file_extension": ".py",
   "mimetype": "text/x-python",
   "name": "python",
   "nbconvert_exporter": "python",
   "pygments_lexer": "ipython3",
   "version": "3.12.7"
  }
 },
 "nbformat": 4,
 "nbformat_minor": 5
}
