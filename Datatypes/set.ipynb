{
 "cells": [
  {
   "cell_type": "markdown",
   "id": "2eb2a922-2047-4c56-86a5-b976b905d79b",
   "metadata": {},
   "source": [
    "# set\n",
    "storing multiple values in single variable using curly brackets.\n",
    "set are unordered,immutable and duplicate values are not allowed"
   ]
  },
  {
   "cell_type": "code",
   "execution_count": 6,
   "id": "d465cb2b-ada1-4c3b-b6c3-1fbaf7cc2ab9",
   "metadata": {},
   "outputs": [
    {
     "name": "stdout",
     "output_type": "stream",
     "text": [
      "{1, 2, 3, 4, 5}\n",
      "<class 'set'>\n"
     ]
    }
   ],
   "source": [
    "s={1,2,3,4,5}\n",
    "print(s)\n",
    "print(type(s))"
   ]
  },
  {
   "cell_type": "code",
   "execution_count": 8,
   "id": "906229c5-e334-4088-9383-7ffebe0cd566",
   "metadata": {},
   "outputs": [
    {
     "name": "stdout",
     "output_type": "stream",
     "text": [
      "{'dog', 'lion', 'tiger'}\n"
     ]
    }
   ],
   "source": [
    "s1={'tiger','lion','tiger','dog'}\n",
    "print(s1)"
   ]
  },
  {
   "cell_type": "code",
   "execution_count": 14,
   "id": "75fe9df7-01ce-46fd-84c7-f01c2de0f98c",
   "metadata": {},
   "outputs": [
    {
     "name": "stdout",
     "output_type": "stream",
     "text": [
      "{False, True, 'java', 'c++'}\n"
     ]
    }
   ],
   "source": [
    "s2={True,1,False,0,'c++','java'}\n",
    "print(s2)"
   ]
  },
  {
   "cell_type": "code",
   "execution_count": 16,
   "id": "add93f42-259c-4e01-afae-4cd23f657bc0",
   "metadata": {},
   "outputs": [
    {
     "name": "stdout",
     "output_type": "stream",
     "text": [
      "dog\n",
      "lion\n",
      "tiger\n"
     ]
    }
   ],
   "source": [
    "for i in s1:\n",
    "    print(i)"
   ]
  },
  {
   "cell_type": "code",
   "execution_count": 24,
   "id": "b524d962-b477-447d-856c-5850893c4289",
   "metadata": {},
   "outputs": [
    {
     "name": "stdout",
     "output_type": "stream",
     "text": [
      "present\n"
     ]
    }
   ],
   "source": [
    "if \"lion\" in s1:\n",
    "    print(\"present\")"
   ]
  },
  {
   "cell_type": "code",
   "execution_count": 26,
   "id": "cccfd36e-def4-4f8c-8d15-d4030bba5275",
   "metadata": {},
   "outputs": [],
   "source": [
    "lst=list(s1)"
   ]
  },
  {
   "cell_type": "code",
   "execution_count": 28,
   "id": "807afda6-3cfb-4675-99a0-8121b313011a",
   "metadata": {},
   "outputs": [
    {
     "data": {
      "text/plain": [
       "['dog', 'lion', 'tiger']"
      ]
     },
     "execution_count": 28,
     "metadata": {},
     "output_type": "execute_result"
    }
   ],
   "source": [
    "lst"
   ]
  },
  {
   "cell_type": "code",
   "execution_count": 38,
   "id": "fedf594a-591a-46da-b5b5-8d71bcee9baa",
   "metadata": {},
   "outputs": [],
   "source": [
    "fruits = {\"apple\", \"banana\", \"cherry\"}\n",
    "first_item = next(iter(fruits))\n"
   ]
  },
  {
   "cell_type": "code",
   "execution_count": 40,
   "id": "b6e52dba-6815-4617-b919-58eed561e060",
   "metadata": {},
   "outputs": [
    {
     "name": "stdout",
     "output_type": "stream",
     "text": [
      "banana\n"
     ]
    }
   ],
   "source": [
    "print(first_item)"
   ]
  },
  {
   "cell_type": "code",
   "execution_count": 9,
   "id": "1715a33a-8173-42b9-8b44-51a9298c0642",
   "metadata": {},
   "outputs": [
    {
     "name": "stdout",
     "output_type": "stream",
     "text": [
      "{5, 6, 7, 8, 9}\n",
      "5\n"
     ]
    }
   ],
   "source": [
    "a={5,6,7,8,7,9}\n",
    "print(a)\n",
    "print(len(a))"
   ]
  },
  {
   "cell_type": "code",
   "execution_count": 7,
   "id": "9b67f4d9-cd58-4f45-9674-ee0f5f9620b7",
   "metadata": {},
   "outputs": [
    {
     "name": "stdout",
     "output_type": "stream",
     "text": [
      "{False, True, 'ecg', 'hiv'}\n"
     ]
    }
   ],
   "source": [
    "b={True,\"hiv\",False,\"ecg\",0,1}\n",
    "print(b)"
   ]
  },
  {
   "cell_type": "code",
   "execution_count": 35,
   "id": "0580bd07-e645-4726-8540-bd2426806227",
   "metadata": {},
   "outputs": [
    {
     "name": "stdout",
     "output_type": "stream",
     "text": [
      "present at 1st index\n"
     ]
    }
   ],
   "source": [
    "set_a={4,\"environment\",True,0,9,8,7}\n",
    "if \"environment\" in set_a:\n",
    "    print(\"present at 1st index\")\n",
    "else:\n",
    "    print(\"not present\")"
   ]
  },
  {
   "cell_type": "code",
   "execution_count": 9,
   "id": "f2b9ec57-30db-4aed-8cd5-519e3a45fcc8",
   "metadata": {},
   "outputs": [
    {
     "ename": "TypeError",
     "evalue": "'builtin_function_or_method' object is not subscriptable",
     "output_type": "error",
     "traceback": [
      "\u001b[1;31m---------------------------------------------------------------------------\u001b[0m",
      "\u001b[1;31mTypeError\u001b[0m                                 Traceback (most recent call last)",
      "Cell \u001b[1;32mIn[9], line 4\u001b[0m\n\u001b[0;32m      2\u001b[0m \u001b[38;5;28;01mfor\u001b[39;00m i \u001b[38;5;129;01min\u001b[39;00m strm:\n\u001b[0;32m      3\u001b[0m     \u001b[38;5;28;01mfor\u001b[39;00m j \u001b[38;5;129;01min\u001b[39;00m i:\n\u001b[1;32m----> 4\u001b[0m         k\u001b[38;5;241m=\u001b[39mj\u001b[38;5;241m.\u001b[39mindex[::\u001b[38;5;241m1\u001b[39m]\n\u001b[0;32m      5\u001b[0m         \u001b[38;5;28mprint\u001b[39m(k)\n",
      "\u001b[1;31mTypeError\u001b[0m: 'builtin_function_or_method' object is not subscriptable"
     ]
    }
   ],
   "source": [
    "strm=[\"flower\",\"flow\",\"flight\"] #print fl\n",
    "for i in strm:\n",
    "    for j in i:\n",
    "        k=j.index[::1]\n",
    "        print(k)\n",
    "    "
   ]
  },
  {
   "cell_type": "code",
   "execution_count": 9,
   "id": "677d0494-3615-42b7-b1ce-e50edd0b0aa1",
   "metadata": {},
   "outputs": [
    {
     "name": "stdin",
     "output_type": "stream",
     "text": [
      "Enter a Roman number:  xx\n"
     ]
    },
    {
     "name": "stdout",
     "output_type": "stream",
     "text": [
      "20\n"
     ]
    }
   ],
   "source": [
    "roman = input(\"Enter a Roman number: \").upper()\n",
    "integer= 0\n",
    "old_value = 0\n",
    "\n",
    "for i in roman:  \n",
    "    match i:\n",
    "        case 'I':\n",
    "            value = 1\n",
    "        case 'V':\n",
    "            value = 5\n",
    "        case 'X':\n",
    "            value = 10\n",
    "        case 'L':\n",
    "            value = 50\n",
    "        case 'C':\n",
    "            value = 100\n",
    "        case 'D':\n",
    "            value = 500\n",
    "        case 'M':\n",
    "            value = 1000\n",
    "        case _:\n",
    "            print(i)\n",
    "            value = 0\n",
    "\n",
    "    if value < old_value:\n",
    "        integer =integer-value\n",
    "    else:\n",
    "        integer =integer+value\n",
    "    old_value = value\n",
    "\n",
    "print(integer)\n",
    "\n"
   ]
  },
  {
   "cell_type": "markdown",
   "id": "cf8736f5-1a32-419a-9a52-228f37b194b8",
   "metadata": {},
   "source": [
    "# Adding of elements in set\n",
    "1. .add()\n",
    "2. .update()"
   ]
  },
  {
   "cell_type": "code",
   "execution_count": 38,
   "id": "775ee8d7-1b89-456e-bdac-2f9c4de29614",
   "metadata": {},
   "outputs": [
    {
     "name": "stdout",
     "output_type": "stream",
     "text": [
      "{0, True, 'environment', 4, 7, 8, 9, 'climate'}\n"
     ]
    }
   ],
   "source": [
    "set_a={4,\"environment\",True,0,9,8,7}\n",
    "set_a.add(\"climate\")\n",
    "print(set_a)"
   ]
  },
  {
   "cell_type": "code",
   "execution_count": 50,
   "id": "bc4e2ce7-1d02-4c2f-ae97-779b5943990e",
   "metadata": {},
   "outputs": [
    {
     "name": "stdout",
     "output_type": "stream",
     "text": [
      "{'red', 'yellow', 'black', 'pink'}\n"
     ]
    }
   ],
   "source": [
    "a={\"red\",\"yellow\",\"pink\"}\n",
    "a.update([\"black\"])\n",
    "print(a)"
   ]
  },
  {
   "cell_type": "code",
   "execution_count": 56,
   "id": "f235db7e-6932-404c-ae5b-a904f4558a22",
   "metadata": {},
   "outputs": [
    {
     "name": "stdout",
     "output_type": "stream",
     "text": [
      "{1, 2, 4, 54, 7, 9, 12}\n"
     ]
    }
   ],
   "source": [
    "b={2,4,7,9,54,1}\n",
    "b.update([12])\n",
    "print(b)"
   ]
  },
  {
   "cell_type": "code",
   "execution_count": 60,
   "id": "39748325-8224-4878-98c0-fbd25cecd6ab",
   "metadata": {},
   "outputs": [
    {
     "name": "stdout",
     "output_type": "stream",
     "text": [
      "{1, 2, 3, 4, 5, 6, 7, 8, 9}\n"
     ]
    }
   ],
   "source": [
    "n={2,4,6,8}\n",
    "m={1,3,5,7,9}\n",
    "n.update(m)\n",
    "print(n)"
   ]
  },
  {
   "cell_type": "markdown",
   "id": "b86618d5-b06c-462c-9d59-989e47a1d1a0",
   "metadata": {},
   "source": [
    "# Removing elements\n",
    "1. .remove()\n",
    "2. .discard()\n",
    "3. .pop()\n",
    "4. .clear()\n",
    "5. del()"
   ]
  },
  {
   "cell_type": "code",
   "execution_count": 65,
   "id": "ff2b6a2e-c95b-429d-8266-a7835a00f758",
   "metadata": {},
   "outputs": [
    {
     "name": "stdout",
     "output_type": "stream",
     "text": [
      "{'cherry', 'apple'}\n"
     ]
    }
   ],
   "source": [
    "fruits = {\"apple\", \"banana\", \"cherry\"}\n",
    "fruits.remove(\"banana\")  \n",
    "\n",
    "print(fruits)\n"
   ]
  },
  {
   "cell_type": "code",
   "execution_count": 62,
   "id": "ea5bf0f5-83a6-43fc-a713-4ad59c98a0ef",
   "metadata": {},
   "outputs": [
    {
     "name": "stdout",
     "output_type": "stream",
     "text": [
      "{40, 10, 30}\n"
     ]
    }
   ],
   "source": [
    "numbers = {10, 20, 30, 40}\n",
    "numbers.discard(20)  \n",
    "numbers.discard(50)  # No error even though 50 is not in the set  \n",
    "\n",
    "print(numbers)\n"
   ]
  },
  {
   "cell_type": "code",
   "execution_count": 70,
   "id": "c5cc81b8-0e5f-4c79-a9e7-c1f2ea7cf6b1",
   "metadata": {},
   "outputs": [
    {
     "name": "stdout",
     "output_type": "stream",
     "text": [
      "Removed: tiger\n",
      "Updated set: {'zebra', 'lion', 'elephant'}\n"
     ]
    }
   ],
   "source": [
    "animals = {\"lion\", \"tiger\", \"elephant\", \"zebra\"}\n",
    "removed_item = animals.pop()  \n",
    "\n",
    "print(f\"Removed: {removed_item}\")\n",
    "print(f\"Updated set: {animals}\")\n"
   ]
  },
  {
   "cell_type": "code",
   "execution_count": 72,
   "id": "83d6b3fb-3796-490e-9bbf-c09cdb3cf1bf",
   "metadata": {},
   "outputs": [
    {
     "name": "stdout",
     "output_type": "stream",
     "text": [
      "set()\n"
     ]
    }
   ],
   "source": [
    "colors = {\"red\", \"blue\", \"green\"}\n",
    "colors.clear()  \n",
    "\n",
    "print(colors)\n"
   ]
  },
  {
   "cell_type": "code",
   "execution_count": 74,
   "id": "e4830750-0a56-47e1-b47a-5b036a0c7150",
   "metadata": {},
   "outputs": [],
   "source": [
    "students = {\"Alice\", \"Bob\", \"Charlie\"}\n",
    "del students  \n"
   ]
  },
  {
   "cell_type": "code",
   "execution_count": null,
   "id": "210b666d-6d7b-4a2c-bdd8-ece714784a9d",
   "metadata": {},
   "outputs": [],
   "source": []
  },
  {
   "cell_type": "code",
   "execution_count": 103,
   "id": "ed7108be-d649-4daa-9495-cc7e2a64146a",
   "metadata": {},
   "outputs": [
    {
     "name": "stdout",
     "output_type": "stream",
     "text": [
      "35\n",
      "14\n",
      "21\n"
     ]
    }
   ],
   "source": [
    "x={12,14,16,18,21,24,35,60,33,53}\n",
    "for i in x:\n",
    "    if i%7==0:\n",
    "        print(i)"
   ]
  },
  {
   "cell_type": "code",
   "execution_count": 107,
   "id": "fe863eff-d6bc-48c4-bc46-fa14eab318da",
   "metadata": {},
   "outputs": [
    {
     "name": "stdout",
     "output_type": "stream",
     "text": [
      "Mean:  39.0\n"
     ]
    }
   ],
   "source": [
    "x={12,14,16,18,21,24,35,60,33,53,81,101}\n",
    "sum=0\n",
    "for i in x:\n",
    "    sum=sum+i\n",
    "    mean=sum/len(x)\n",
    "print(\"Mean: \",mean)\n",
    "    "
   ]
  },
  {
   "cell_type": "code",
   "execution_count": 127,
   "id": "5481a59e-7454-416f-b00b-09e329600a27",
   "metadata": {},
   "outputs": [
    {
     "name": "stdout",
     "output_type": "stream",
     "text": [
      "1. tiger\n",
      "2. lion\n",
      "3. elephant\n"
     ]
    }
   ],
   "source": [
    "animals = {\"lion\", \"tiger\", \"elephant\"}\n",
    "for index, animal in enumerate(animals, start=1):\n",
    "    print(f\"{index}. {animal}\")\n"
   ]
  },
  {
   "cell_type": "code",
   "execution_count": 129,
   "id": "96f6036c-ff08-49fe-824f-359ff67a5a55",
   "metadata": {},
   "outputs": [
    {
     "name": "stdout",
     "output_type": "stream",
     "text": [
      "Emma\n",
      "Liam\n",
      "Noah\n",
      "Olivia\n"
     ]
    }
   ],
   "source": [
    "names = {\"Olivia\", \"Liam\", \"Emma\", \"Noah\"}\n",
    "for name in sorted(names):\n",
    "    print(name)\n"
   ]
  },
  {
   "cell_type": "code",
   "execution_count": 153,
   "id": "50e293f8-2435-49ca-90d0-c10374111194",
   "metadata": {},
   "outputs": [
    {
     "name": "stdout",
     "output_type": "stream",
     "text": [
      "False\n"
     ]
    }
   ],
   "source": [
    "ste={100,200,300,500,400}\n",
    "ste2={200,500,700,800,900}\n",
    "new=ste2.isdisjoint(ste)\n",
    "print(new)\n"
   ]
  },
  {
   "cell_type": "code",
   "execution_count": 149,
   "id": "b567fc91-408b-455b-9dfa-6d5b5c7096ac",
   "metadata": {},
   "outputs": [
    {
     "name": "stdout",
     "output_type": "stream",
     "text": [
      "{21, 22, 23, 24, 25, 26, 27, 28}\n"
     ]
    }
   ],
   "source": [
    "h1={21,23,24,25,26}\n",
    "h2={25,22,26,27,28}\n",
    "h3=h1.union(h2)\n",
    "print(h3)"
   ]
  },
  {
   "cell_type": "code",
   "execution_count": 141,
   "id": "c83561ee-1689-404d-a3ad-a23b309e95f6",
   "metadata": {},
   "outputs": [
    {
     "ename": "AttributeError",
     "evalue": "'frozenset' object has no attribute 'add'",
     "output_type": "error",
     "traceback": [
      "\u001b[1;31m---------------------------------------------------------------------------\u001b[0m",
      "\u001b[1;31mAttributeError\u001b[0m                            Traceback (most recent call last)",
      "Cell \u001b[1;32mIn[141], line 2\u001b[0m\n\u001b[0;32m      1\u001b[0m f1\u001b[38;5;241m=\u001b[39m\u001b[38;5;28mfrozenset\u001b[39m([\u001b[38;5;241m1\u001b[39m,\u001b[38;5;241m2\u001b[39m,\u001b[38;5;241m3\u001b[39m,\u001b[38;5;241m4\u001b[39m,\u001b[38;5;241m5\u001b[39m,\u001b[38;5;241m6\u001b[39m,\u001b[38;5;241m7\u001b[39m])\n\u001b[1;32m----> 2\u001b[0m f1\u001b[38;5;241m.\u001b[39madd(\u001b[38;5;241m8\u001b[39m)\n\u001b[0;32m      3\u001b[0m \u001b[38;5;28mprint\u001b[39m(f1)\n",
      "\u001b[1;31mAttributeError\u001b[0m: 'frozenset' object has no attribute 'add'"
     ]
    }
   ],
   "source": [
    "f1=frozenset([1,2,3,4,5,6,7])\n",
    "f1.add(8)\n",
    "print(f1)"
   ]
  },
  {
   "cell_type": "code",
   "execution_count": 12,
   "id": "b87ed1c3-8ac3-4be4-baeb-74c1bae63731",
   "metadata": {},
   "outputs": [
    {
     "name": "stdout",
     "output_type": "stream",
     "text": [
      "{64, 1, 8, 27, 125}\n"
     ]
    }
   ],
   "source": [
    "a={1,2,3,4,5}\n",
    "b={a**3 for a in range(1,6)}\n",
    "print(b)"
   ]
  },
  {
   "cell_type": "code",
   "execution_count": 14,
   "id": "01e101c1-bebc-4753-914d-68728200687c",
   "metadata": {},
   "outputs": [
    {
     "data": {
      "text/plain": [
       "{1, 3, 6, 8, 10}"
      ]
     },
     "execution_count": 14,
     "metadata": {},
     "output_type": "execute_result"
    }
   ],
   "source": [
    "x={2,4,6,8,10}\n",
    "y={1,2,3,4}\n",
    "x.symmetric_difference(y)"
   ]
  },
  {
   "cell_type": "code",
   "execution_count": null,
   "id": "92ec5744-0d51-43e3-82dd-cb9656f0bc43",
   "metadata": {},
   "outputs": [],
   "source": []
  }
 ],
 "metadata": {
  "kernelspec": {
   "display_name": "Python [conda env:base] *",
   "language": "python",
   "name": "conda-base-py"
  },
  "language_info": {
   "codemirror_mode": {
    "name": "ipython",
    "version": 3
   },
   "file_extension": ".py",
   "mimetype": "text/x-python",
   "name": "python",
   "nbconvert_exporter": "python",
   "pygments_lexer": "ipython3",
   "version": "3.12.7"
  }
 },
 "nbformat": 4,
 "nbformat_minor": 5
}
