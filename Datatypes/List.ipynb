{
 "cells": [
  {
   "cell_type": "markdown",
   "id": "40dfbab6-c4b8-4dba-b540-133225583249",
   "metadata": {
    "panel-layout": {
     "height": 308.20001220703125,
     "visible": true,
     "width": 100
    }
   },
   "source": [
    "1. List is dynmaic array stored in single variable in ordered form\n",
    "2. it also has duplicate values"
   ]
  },
  {
   "cell_type": "code",
   "execution_count": 2,
   "id": "355b2e74-7659-499d-b4fa-c6b2da9627ff",
   "metadata": {
    "panel-layout": {
     "height": 27.137500762939453,
     "visible": true,
     "width": 100
    }
   },
   "outputs": [
    {
     "data": {
      "text/plain": [
       "2"
      ]
     },
     "execution_count": 2,
     "metadata": {},
     "output_type": "execute_result"
    }
   ],
   "source": [
    "list1=[2,4,9,5,8,4,6,9]\n",
    "c=min(list1)\n",
    "c"
   ]
  },
  {
   "cell_type": "code",
   "execution_count": 3,
   "id": "b6e6157c-1be1-4414-aa5c-a60aff4adbdc",
   "metadata": {
    "panel-layout": {
     "height": 27.137500762939453,
     "visible": true,
     "width": 100
    }
   },
   "outputs": [
    {
     "data": {
      "text/plain": [
       "8"
      ]
     },
     "execution_count": 3,
     "metadata": {},
     "output_type": "execute_result"
    }
   ],
   "source": [
    "b=len(list1)\n",
    "b"
   ]
  },
  {
   "cell_type": "code",
   "execution_count": 4,
   "id": "b46e5a07-60a0-406b-92ca-0d6a70a07517",
   "metadata": {
    "panel-layout": {
     "height": 10,
     "visible": true,
     "width": 100
    }
   },
   "outputs": [
    {
     "data": {
      "text/plain": [
       "list"
      ]
     },
     "execution_count": 4,
     "metadata": {},
     "output_type": "execute_result"
    }
   ],
   "source": [
    "type(list1)"
   ]
  },
  {
   "cell_type": "code",
   "execution_count": 5,
   "id": "a701face-5e23-45cd-82dc-147a431d1efd",
   "metadata": {
    "panel-layout": {
     "height": 83.4749984741211,
     "visible": true,
     "width": 100
    }
   },
   "outputs": [
    {
     "data": {
      "text/plain": [
       "[5]"
      ]
     },
     "execution_count": 5,
     "metadata": {},
     "output_type": "execute_result"
    }
   ],
   "source": [
    "list2=[5]\n",
    "list2"
   ]
  },
  {
   "cell_type": "code",
   "execution_count": 6,
   "id": "d2624126-8312-4441-bf6d-745c3bc66586",
   "metadata": {
    "panel-layout": {
     "height": 0,
     "visible": true,
     "width": 100
    }
   },
   "outputs": [
    {
     "name": "stdout",
     "output_type": "stream",
     "text": [
      "<class 'list'>\n",
      "1\n"
     ]
    }
   ],
   "source": [
    "print(type(list2))\n",
    "print(len(list2))"
   ]
  },
  {
   "cell_type": "code",
   "execution_count": 7,
   "id": "523b1325-e1b1-4275-9a9d-70ceb0cd3b39",
   "metadata": {},
   "outputs": [],
   "source": [
    "constructor=list(('a','b','c'))"
   ]
  },
  {
   "cell_type": "code",
   "execution_count": 8,
   "id": "f9bed1d0-2cd9-4cdd-82f4-3afde408f675",
   "metadata": {
    "panel-layout": {
     "height": 0,
     "visible": true,
     "width": 100
    }
   },
   "outputs": [
    {
     "name": "stdout",
     "output_type": "stream",
     "text": [
      "['a', 'b', 'c']\n"
     ]
    }
   ],
   "source": [
    "print(constructor)"
   ]
  },
  {
   "cell_type": "code",
   "execution_count": 9,
   "id": "4c10c70f-780f-4d2d-be94-3fc94cf9053f",
   "metadata": {
    "panel-layout": {
     "height": 0,
     "visible": true,
     "width": 100
    }
   },
   "outputs": [
    {
     "name": "stdout",
     "output_type": "stream",
     "text": [
      "8\n"
     ]
    }
   ],
   "source": [
    "print(list1[4])#for accessing th elements"
   ]
  },
  {
   "cell_type": "code",
   "execution_count": 10,
   "id": "4a016e4d-c007-47d4-9dd0-85042677a40f",
   "metadata": {
    "panel-layout": {
     "height": 0,
     "visible": true,
     "width": 100
    }
   },
   "outputs": [
    {
     "name": "stdout",
     "output_type": "stream",
     "text": [
      "[9, 5, 8, 4]\n"
     ]
    }
   ],
   "source": [
    "print(list1[2:6])"
   ]
  },
  {
   "cell_type": "code",
   "execution_count": 11,
   "id": "a5086ac3-0ab8-45d4-a3d8-b8c1a17065ef",
   "metadata": {
    "panel-layout": {
     "height": 0,
     "visible": true,
     "width": 100
    }
   },
   "outputs": [
    {
     "name": "stdout",
     "output_type": "stream",
     "text": [
      "[4, 6]\n"
     ]
    }
   ],
   "source": [
    "print(list1[-3:-1])"
   ]
  },
  {
   "cell_type": "code",
   "execution_count": 12,
   "id": "6d1c8bad-6629-49a3-b6c4-363e368f7aa8",
   "metadata": {
    "panel-layout": {
     "height": 0,
     "visible": true,
     "width": 100
    }
   },
   "outputs": [
    {
     "name": "stdout",
     "output_type": "stream",
     "text": [
      "5\n",
      "8\n",
      "[54, 23]\n"
     ]
    }
   ],
   "source": [
    "list4=[22,3,45,8,7,5,44,49,54,23]\n",
    "print(list4[-5])\n",
    "print(list4[3])\n",
    "print(list4[-2:])"
   ]
  },
  {
   "cell_type": "code",
   "execution_count": 13,
   "id": "e68bbff0-47e7-4ac7-ad91-ca0e75872ca1",
   "metadata": {
    "panel-layout": {
     "height": 0,
     "visible": true,
     "width": 100
    }
   },
   "outputs": [
    {
     "name": "stdout",
     "output_type": "stream",
     "text": [
      "[1, 2, 3, 4, 5, 6, 7, 8, 9, 11, 22, 33, 44, 55, 66, 77]\n"
     ]
    }
   ],
   "source": [
    "list5=[1,2,3,4,5,6,7,8,9,11,22,33,44,55,66,77,88,99,21,32]\n",
    "print(list5[:-4])"
   ]
  },
  {
   "cell_type": "code",
   "execution_count": 14,
   "id": "a866c81e-d92d-4e3f-ba74-9e82fb9e5563",
   "metadata": {
    "panel-layout": {
     "height": 0,
     "visible": true,
     "width": 100
    }
   },
   "outputs": [
    {
     "name": "stdout",
     "output_type": "stream",
     "text": [
      "[1, 2, 3, 4, 5, 6, 7, 8]\n"
     ]
    }
   ],
   "source": [
    "print(list5[:8])"
   ]
  },
  {
   "cell_type": "code",
   "execution_count": 15,
   "id": "2c426e6e-6666-4dd6-8e76-3f72e923f13a",
   "metadata": {
    "panel-layout": {
     "height": 0,
     "visible": true,
     "width": 100
    }
   },
   "outputs": [
    {
     "name": "stdout",
     "output_type": "stream",
     "text": [
      "[8, 9, 11, 22, 33, 44, 55, 66, 77, 88, 99, 21, 32]\n"
     ]
    }
   ],
   "source": [
    "print(list5[7:20])"
   ]
  },
  {
   "cell_type": "code",
   "execution_count": 16,
   "id": "06cbc053-347b-4c70-901a-5d42a1d6ef32",
   "metadata": {},
   "outputs": [
    {
     "name": "stdout",
     "output_type": "stream",
     "text": [
      "found\n"
     ]
    }
   ],
   "source": [
    "if(5 in list5):\n",
    "    print(\"found\")\n",
    "else:\n",
    "    print(\"not found\")"
   ]
  },
  {
   "cell_type": "code",
   "execution_count": 17,
   "id": "f20141df-6daf-4cd1-864f-0a2dd90520ce",
   "metadata": {},
   "outputs": [],
   "source": [
    "a=[4,5,6,7,8,9]"
   ]
  },
  {
   "cell_type": "code",
   "execution_count": 18,
   "id": "2ae0d023-92bf-4305-b6cf-7fd34df9c78e",
   "metadata": {},
   "outputs": [],
   "source": [
    "a[2:4]=2,3"
   ]
  },
  {
   "cell_type": "code",
   "execution_count": 19,
   "id": "134d2db6-c81b-43d8-84ae-f5ea54e880c2",
   "metadata": {
    "panel-layout": {
     "height": 0,
     "visible": true,
     "width": 100
    }
   },
   "outputs": [
    {
     "name": "stdout",
     "output_type": "stream",
     "text": [
      "[4, 5, 2, 3, 8, 9]\n"
     ]
    }
   ],
   "source": [
    "print(a)"
   ]
  },
  {
   "cell_type": "code",
   "execution_count": 20,
   "id": "fa6d0e5f-b608-47ee-bdfb-64cc764af322",
   "metadata": {},
   "outputs": [],
   "source": [
    "l=[2,3,4,5,6,7,8,9,11,10]\n",
    "l[2:5]=28,38,48"
   ]
  },
  {
   "cell_type": "code",
   "execution_count": 21,
   "id": "074fadfd-7ede-47f8-a439-5fc5d0c2fb4c",
   "metadata": {
    "panel-layout": {
     "height": 0,
     "visible": true,
     "width": 100
    }
   },
   "outputs": [
    {
     "name": "stdout",
     "output_type": "stream",
     "text": [
      "[2, 3, 28, 38, 48, 7, 8, 9, 11, 10]\n"
     ]
    }
   ],
   "source": [
    "print(l)"
   ]
  },
  {
   "cell_type": "markdown",
   "id": "c964b748-e247-4b03-b9d0-392f0a2f1d6c",
   "metadata": {
    "panel-layout": {
     "height": 932.0125122070312,
     "visible": true,
     "width": 100
    }
   },
   "source": [
    "Operations\n",
    "1. adding elements\n",
    "\n",
    "   = append()\n",
    "   = insert()\n",
    "   = extend()"
   ]
  },
  {
   "cell_type": "code",
   "execution_count": 23,
   "id": "f145d43c-07cd-4633-a4e5-175c2182b126",
   "metadata": {},
   "outputs": [],
   "source": [
    "l1=[1,2,3,4,5,6,7,8,9,10,11,12,13,14,15,16,17,18,19,20,21,22,23,24,25]\n",
    "#l1.append(10)"
   ]
  },
  {
   "cell_type": "code",
   "execution_count": 24,
   "id": "564bba97-8056-4c96-b19c-687d3af03586",
   "metadata": {},
   "outputs": [],
   "source": [
    "#l1"
   ]
  },
  {
   "cell_type": "code",
   "execution_count": 25,
   "id": "485e3aaa-4346-40a8-adfd-14016cedf2e3",
   "metadata": {},
   "outputs": [],
   "source": [
    "#l1.append(\"end\")"
   ]
  },
  {
   "cell_type": "code",
   "execution_count": 26,
   "id": "0dae158b-18fe-4eb7-8591-c40679ef2fd6",
   "metadata": {},
   "outputs": [],
   "source": [
    "#l1"
   ]
  },
  {
   "cell_type": "markdown",
   "id": "bebf1cf1-f4ee-42c8-a5be-88f77744a145",
   "metadata": {
    "panel-layout": {
     "height": 633.8125,
     "visible": true,
     "width": 100
    }
   },
   "source": [
    "---------------Insert--------------"
   ]
  },
  {
   "cell_type": "code",
   "execution_count": 28,
   "id": "323770b8-8c23-40c8-bf74-133ceab8def6",
   "metadata": {},
   "outputs": [],
   "source": [
    "l1[-4]=\"mid value\""
   ]
  },
  {
   "cell_type": "code",
   "execution_count": 29,
   "id": "6d44df19-f7c2-402f-955c-a93cdbc82d8a",
   "metadata": {
    "panel-layout": {
     "height": 0,
     "visible": true,
     "width": 100
    }
   },
   "outputs": [
    {
     "name": "stdout",
     "output_type": "stream",
     "text": [
      "[1, 2, 3, 4, 5, 6, 7, 8, 9, 10, 11, 12, 13, 14, 15, 16, 17, 18, 19, 20, 21, 'mid value', 23, 24, 25]\n"
     ]
    }
   ],
   "source": [
    "print(l1)"
   ]
  },
  {
   "cell_type": "markdown",
   "id": "5651d42a-8902-47c5-97eb-f57fffcbb928",
   "metadata": {
    "panel-layout": {
     "height": 702.3624877929688,
     "visible": true,
     "width": 100
    }
   },
   "source": [
    "---------------extend------------------"
   ]
  },
  {
   "cell_type": "code",
   "execution_count": 31,
   "id": "283c234b-87b7-461d-b1e7-6701b06c89dc",
   "metadata": {
    "panel-layout": {
     "height": 0,
     "visible": true,
     "width": 100
    }
   },
   "outputs": [],
   "source": [
    "n=[1,2,3,4]\n",
    "m=[5,6,7,8]\n",
    "n.extend(m)"
   ]
  },
  {
   "cell_type": "code",
   "execution_count": 32,
   "id": "ca9e873f-37d3-4d4d-87be-eae683df43f5",
   "metadata": {
    "panel-layout": {
     "height": 0,
     "visible": true,
     "width": 100
    }
   },
   "outputs": [
    {
     "name": "stdout",
     "output_type": "stream",
     "text": [
      "[1, 2, 3, 4, 5, 6, 7, 8]\n"
     ]
    }
   ],
   "source": [
    "print(n)"
   ]
  },
  {
   "cell_type": "code",
   "execution_count": 33,
   "id": "7c6f488a-0f3f-4d5e-86a7-e3581b8ac561",
   "metadata": {
    "panel-layout": {
     "height": 0,
     "visible": true,
     "width": 100
    }
   },
   "outputs": [
    {
     "name": "stdout",
     "output_type": "stream",
     "text": [
      "5\n",
      "4\n"
     ]
    }
   ],
   "source": [
    "a1=[1,1,2,2,3,3,3,3,6,7,8,9,9,9,9,9]\n",
    "print(a1.count(9))\n",
    "print(a1.count(3))"
   ]
  },
  {
   "cell_type": "code",
   "execution_count": 34,
   "id": "c766fc57-a44e-4945-921a-d0899c5ac023",
   "metadata": {
    "panel-layout": {
     "height": 27.137500762939453,
     "visible": true,
     "width": 100
    }
   },
   "outputs": [
    {
     "data": {
      "text/plain": [
       "2"
      ]
     },
     "execution_count": 34,
     "metadata": {},
     "output_type": "execute_result"
    }
   ],
   "source": [
    "a1.index(2)"
   ]
  },
  {
   "cell_type": "code",
   "execution_count": 35,
   "id": "91868464-26f8-4a74-a87a-599344384d35",
   "metadata": {},
   "outputs": [
    {
     "name": "stdout",
     "output_type": "stream",
     "text": [
      "1\n",
      "2\n",
      "3\n",
      "4\n",
      "5\n",
      "6\n",
      "7\n",
      "8\n",
      "9\n",
      "10\n"
     ]
    }
   ],
   "source": [
    "list6=[1,2,3,4,5,6,7,8,9,10]\n",
    "for i in list6:\n",
    "    print(i)\n",
    "    "
   ]
  },
  {
   "cell_type": "code",
   "execution_count": 36,
   "id": "ec19d12d-362b-41d1-a83c-3fc7aa8b3267",
   "metadata": {
    "panel-layout": {
     "height": 0,
     "visible": true,
     "width": 100
    }
   },
   "outputs": [
    {
     "name": "stdout",
     "output_type": "stream",
     "text": [
      "(['Feminist', 'A', 'B', 'C', 'D'],)\n"
     ]
    }
   ],
   "source": [
    "list_new=[\"Feminist\",\"A\",\"B\",\"C\",\"D\"]\n",
    "listz=tuple([list_new])\n",
    "print(listz)"
   ]
  },
  {
   "cell_type": "code",
   "execution_count": 37,
   "id": "f8dfc910-dce7-41e4-867f-f71d2bbbeddc",
   "metadata": {
    "panel-layout": {
     "height": 10,
     "visible": true,
     "width": 100
    }
   },
   "outputs": [
    {
     "data": {
      "text/plain": [
       "tuple"
      ]
     },
     "execution_count": 37,
     "metadata": {},
     "output_type": "execute_result"
    }
   ],
   "source": [
    "type(listz)"
   ]
  },
  {
   "cell_type": "code",
   "execution_count": 38,
   "id": "01a23ca7-4209-48c2-951e-c8ef1326f374",
   "metadata": {
    "panel-layout": {
     "height": 0,
     "visible": true,
     "width": 100
    }
   },
   "outputs": [
    {
     "name": "stdout",
     "output_type": "stream",
     "text": [
      "['Feminist', 'A', 'x', 'y', 'z']\n"
     ]
    }
   ],
   "source": [
    "list_new[2:5]=\"x\",\"y\",\"z\"\n",
    "print(list_new)"
   ]
  },
  {
   "cell_type": "code",
   "execution_count": 39,
   "id": "201fa5d3-3656-44a7-bb42-d40cda7e2c45",
   "metadata": {},
   "outputs": [
    {
     "name": "stdout",
     "output_type": "stream",
     "text": [
      "6\n",
      "9\n",
      "12\n"
     ]
    }
   ],
   "source": [
    "mul=[2,4,6,8,9,12]\n",
    "for i in mul:\n",
    "    if i%3==0:\n",
    "        print (i)"
   ]
  },
  {
   "cell_type": "code",
   "execution_count": 40,
   "id": "1daf0095-0214-4dce-abc1-b004700ddbc1",
   "metadata": {},
   "outputs": [
    {
     "name": "stdout",
     "output_type": "stream",
     "text": [
      "Even number: 10\n",
      "Odd number: 21\n",
      "Even number: 32\n",
      "Odd number: 43\n",
      "Even number: 54\n"
     ]
    }
   ],
   "source": [
    "o = [10, 21, 32, 43, 54]\n",
    "\n",
    "for i in o:\n",
    "    if i % 2 == 0:\n",
    "        print(\"Even number:\", i)\n",
    "    else:\n",
    "        print(\"Odd number:\", i)\n"
   ]
  },
  {
   "cell_type": "code",
   "execution_count": 41,
   "id": "512858aa-6de8-4f0c-a81b-9d999051081b",
   "metadata": {},
   "outputs": [
    {
     "name": "stdout",
     "output_type": "stream",
     "text": [
      "The sum of the elements is not greater than 50.\n"
     ]
    }
   ],
   "source": [
    "\n",
    "t = (5, 10, 15, 20)\n",
    "s = 0\n",
    "index = 0\n",
    "while index < len(t):\n",
    "    s += t[index]\n",
    "    index += 1\n",
    "if s > 50:\n",
    "    print(\"The sum of the elements is greater than 50.\")\n",
    "else:\n",
    "    print(\"The sum of the elements is not greater than 50.\")\n"
   ]
  },
  {
   "cell_type": "markdown",
   "id": "c22ad919-ff8b-4515-a2d0-696b0e2c9d58",
   "metadata": {
    "panel-layout": {
     "height": 805.1875,
     "visible": true,
     "width": 100
    }
   },
   "source": [
    "-------------------REMOVE--------------------"
   ]
  },
  {
   "cell_type": "code",
   "execution_count": 43,
   "id": "5569cc8d-b23f-4bc8-8c0d-ce54aa7f6156",
   "metadata": {
    "panel-layout": {
     "height": 152.02500915527344,
     "visible": true,
     "width": 100
    }
   },
   "outputs": [
    {
     "data": {
      "text/plain": [
       "['apple', 'mango', 'banana', 'pineapple', 'graphs']"
      ]
     },
     "execution_count": 43,
     "metadata": {},
     "output_type": "execute_result"
    }
   ],
   "source": [
    "list_a1=[\"apple\",\"mango\",\"graphs\",\"banana\",\"pineapple\",\"graphs\"]\n",
    "list_a1.remove(\"graphs\")\n",
    "list_a1"
   ]
  },
  {
   "cell_type": "code",
   "execution_count": 44,
   "id": "21d07563-f946-4ddb-a462-890b704d1882",
   "metadata": {
    "panel-layout": {
     "height": 0,
     "visible": true,
     "width": 100
    }
   },
   "outputs": [
    {
     "name": "stdout",
     "output_type": "stream",
     "text": [
      "['apple', 'mango', 'banana', 'pineapple', ['moon', 'mars']]\n"
     ]
    }
   ],
   "source": [
    "list_a2=[\"apple\",\"mango\",\"banana\",\"pineapple\",[\"moon\",\"earth\",\"mars\"]]\n",
    "list_a2[-1].remove(\"earth\")\n",
    "print(list_a2)"
   ]
  },
  {
   "cell_type": "markdown",
   "id": "f9fb6192-17d6-4dec-bd01-bf571cc97a0a",
   "metadata": {
    "panel-layout": {
     "height": 2479.525146484375,
     "visible": true,
     "width": 100
    }
   },
   "source": [
    "-----------------POP---------------------\n",
    "\n",
    "it is use to remove the elements at a specific index and if index is not mentioned then it will remove the elements from last"
   ]
  },
  {
   "cell_type": "code",
   "execution_count": 46,
   "id": "1c5570af-b923-4e6f-903d-66dcbdec7b5f",
   "metadata": {
    "panel-layout": {
     "height": 0,
     "visible": true,
     "width": 100
    }
   },
   "outputs": [
    {
     "name": "stdout",
     "output_type": "stream",
     "text": [
      "['apple', 'graphs', 'banana', 'pineapple']\n"
     ]
    }
   ],
   "source": [
    "list_a1=[\"apple\",\"mango\",\"graphs\",\"banana\",\"pineapple\",\"graphs\"]\n",
    "list_a1.pop(1)\n",
    "list_a1.pop()\n",
    "print(list_a1)"
   ]
  },
  {
   "cell_type": "markdown",
   "id": "edf6aa82-fa3a-4e5d-9155-8988b5791193",
   "metadata": {
    "panel-layout": {
     "height": 1262.7625732421875,
     "visible": true,
     "width": 100
    }
   },
   "source": [
    "----------------DELETE----------------------\n",
    "\n",
    "We can directly remove the index"
   ]
  },
  {
   "cell_type": "code",
   "execution_count": 48,
   "id": "dba3c71f-579e-42a4-b70b-4a394b283cc6",
   "metadata": {
    "panel-layout": {
     "height": 0,
     "visible": true,
     "width": 100
    }
   },
   "outputs": [
    {
     "name": "stdout",
     "output_type": "stream",
     "text": [
      "['apple', 'graphs', 'pineapple']\n"
     ]
    }
   ],
   "source": [
    "del list_a1[2]\n",
    "print(list_a1)"
   ]
  },
  {
   "cell_type": "code",
   "execution_count": 49,
   "id": "d36a3e82-c787-49ac-b4de-2a395bfd853e",
   "metadata": {},
   "outputs": [],
   "source": [
    "del list_a1"
   ]
  },
  {
   "cell_type": "markdown",
   "id": "accdd274-5117-49d7-82be-3a326e1dc18d",
   "metadata": {
    "panel-layout": {
     "height": 1108.5250244140625,
     "visible": true,
     "width": 100
    }
   },
   "source": [
    "---------------clear----------------\n",
    "\n",
    "it also wrok like delete method"
   ]
  },
  {
   "cell_type": "code",
   "execution_count": 51,
   "id": "bcfd15f8-7664-4e5c-8527-2556d159ea26",
   "metadata": {
    "panel-layout": {
     "height": 0,
     "visible": true,
     "width": 100
    }
   },
   "outputs": [
    {
     "name": "stdout",
     "output_type": "stream",
     "text": [
      "[]\n"
     ]
    }
   ],
   "source": [
    "list_a1=[\"apple\",\"mango\",\"graphs\",\"banana\",\"pineapple\",\"graphs\"]\n",
    "list_a1.clear()\n",
    "print(list_a1)"
   ]
  },
  {
   "cell_type": "code",
   "execution_count": null,
   "id": "440c8cea-3560-40e0-bf5a-a84762138de0",
   "metadata": {},
   "outputs": [],
   "source": []
  },
  {
   "cell_type": "code",
   "execution_count": 52,
   "id": "8abc8baf-f324-4238-a6a3-45d768b5694e",
   "metadata": {
    "panel-layout": {
     "height": 0,
     "visible": true,
     "width": 100
    }
   },
   "outputs": [
    {
     "name": "stdout",
     "output_type": "stream",
     "text": [
      "[2, 3, 6, 7, [8, 33, 55, 101], 9, 1000, 42, 48, 90, 43, 21, 84]\n"
     ]
    }
   ],
   "source": [
    "list_a3=[2,3,4,5,6,7,[8,33,55,101],9,1000,42,48,90,43,21,84]\n",
    "list_a3.remove(4)\n",
    "list_a3.remove(5)\n",
    "print(list_a3)"
   ]
  },
  {
   "cell_type": "code",
   "execution_count": 53,
   "id": "778aa2c9-d78d-4ec1-92e4-065762c73af6",
   "metadata": {
    "panel-layout": {
     "height": 0,
     "visible": true,
     "width": 100
    }
   },
   "outputs": [
    {
     "name": "stdout",
     "output_type": "stream",
     "text": [
      "[2, 3, 6, 7, [33, 101], 9, 1000, 42, 48, 90, 43, 21, 84]\n"
     ]
    }
   ],
   "source": [
    "list_a3[4].pop(0)\n",
    "list_a3[4].pop(1)\n",
    "print(list_a3)"
   ]
  },
  {
   "cell_type": "code",
   "execution_count": 54,
   "id": "bfbba410-838c-4056-8938-68d970e0b884",
   "metadata": {
    "panel-layout": {
     "height": 0,
     "visible": true,
     "width": 100
    }
   },
   "outputs": [
    {
     "name": "stdout",
     "output_type": "stream",
     "text": [
      "[2, 3, 6, 7, [33, 101], 9, 42, 48, 90, 43, 21, 84]\n"
     ]
    }
   ],
   "source": [
    "list_a3.pop(6)\n",
    "print(list_a3)"
   ]
  },
  {
   "cell_type": "code",
   "execution_count": null,
   "id": "b3a3c825-2647-4e5b-a300-c4bbee788673",
   "metadata": {},
   "outputs": [],
   "source": []
  },
  {
   "cell_type": "markdown",
   "id": "445b0d74-a8ed-4ed8-9475-ff9935041fec",
   "metadata": {
    "panel-layout": {
     "height": 685.2250366210938,
     "visible": true,
     "width": 100
    }
   },
   "source": [
    "------------- List Loops ----------------"
   ]
  },
  {
   "cell_type": "code",
   "execution_count": 56,
   "id": "a9331373-1ac4-496c-9056-a97708d2cedf",
   "metadata": {},
   "outputs": [
    {
     "name": "stdout",
     "output_type": "stream",
     "text": [
      "a\n",
      "b\n",
      "c\n",
      "d\n",
      "e\n"
     ]
    }
   ],
   "source": [
    "new_list=[\"a\",\"b\",\"c\",\"d\",\"e\"]\n",
    "for element in new_list:\n",
    "    print(element)"
   ]
  },
  {
   "cell_type": "code",
   "execution_count": 57,
   "id": "750138ee-e01f-45d7-874c-a64ccb99f5fc",
   "metadata": {},
   "outputs": [
    {
     "name": "stdout",
     "output_type": "stream",
     "text": [
      "a\n",
      "b\n",
      "c\n",
      "d\n",
      "e\n"
     ]
    }
   ],
   "source": [
    "new_list=[\"a\",\"b\",\"c\",\"d\",\"e\"]\n",
    "for element in range(len(new_list)):\n",
    "    print(new_list[element])"
   ]
  },
  {
   "cell_type": "code",
   "execution_count": 58,
   "id": "1848c51d-e194-4521-b4de-810f7238f7db",
   "metadata": {},
   "outputs": [
    {
     "name": "stdout",
     "output_type": "stream",
     "text": [
      "a\n",
      "b\n",
      "c\n",
      "d\n",
      "e\n"
     ]
    }
   ],
   "source": [
    "new_list=[\"a\",\"b\",\"c\",\"d\",\"e\"]\n",
    "i=0\n",
    "while i < len(new_list):\n",
    "    print(new_list[i])\n",
    "    i+=1"
   ]
  },
  {
   "cell_type": "code",
   "execution_count": 59,
   "id": "48bfd5c4-b142-4d9a-ac08-ab3394034026",
   "metadata": {},
   "outputs": [
    {
     "name": "stdout",
     "output_type": "stream",
     "text": [
      "divisible 5\n",
      "divisible 20\n",
      "divisible 45\n",
      "not divisible 78\n",
      "divisible 55\n",
      "divisible 70\n",
      "not divisible 33\n",
      "not divisible 64\n",
      "not divisible 89\n",
      "not divisible 26\n",
      "divisible 30\n"
     ]
    }
   ],
   "source": [
    "lst=[5,20,45,78,55,70,33,64,89,26,30]\n",
    "for i in lst:\n",
    "    if i%5==0:\n",
    "        print(\"divisible\",i)\n",
    "    else:\n",
    "        print(\"not divisible\",i)"
   ]
  },
  {
   "cell_type": "code",
   "execution_count": 60,
   "id": "15d5948e-da36-4683-bf10-d9cfb2f65f23",
   "metadata": {},
   "outputs": [
    {
     "name": "stdout",
     "output_type": "stream",
     "text": [
      "1\n",
      "2\n",
      "3\n",
      "4\n",
      "5\n"
     ]
    }
   ],
   "source": [
    "lst2=[1,2,3,4,5,6,7,8,9]\n",
    "for i in range (1,6):\n",
    "    print(i)"
   ]
  },
  {
   "cell_type": "code",
   "execution_count": 61,
   "id": "45283360-01f3-48a1-954d-c0e34dad3041",
   "metadata": {},
   "outputs": [
    {
     "name": "stdout",
     "output_type": "stream",
     "text": [
      "1\n",
      "3\n",
      "5\n",
      "7\n",
      "9\n"
     ]
    }
   ],
   "source": [
    "lst3 = [1, 2, 3, 4, 5, 6, 7, 8, 9, 10]\n",
    "i = 0\n",
    "while i < len(lst3):\n",
    "    if lst3[i] % 2 != 0:\n",
    "        print(lst3[i])\n",
    "    i += 1 "
   ]
  },
  {
   "cell_type": "code",
   "execution_count": null,
   "id": "12ba87c8-53b3-4e98-add0-dc5d2274a0f4",
   "metadata": {},
   "outputs": [],
   "source": []
  },
  {
   "cell_type": "markdown",
   "id": "b60de522-bce2-48e6-95d0-5c886a8768e0",
   "metadata": {
    "panel-layout": {
     "height": 788.0499877929688,
     "visible": true,
     "width": 100
    }
   },
   "source": [
    "1.\tModify a Shopping List:\n",
    "Given a list shopping_list = ['milk', 'bread', 'eggs', 'butter'], write a program to:\n",
    "\t•\tAdd 'cheese' to the list.\n",
    "\t•\tInsert 'fruits' at index 2.\n",
    "\t•\tRemove 'butter' from the list.\n",
    "\t•\tAccess and print the first and last items."
   ]
  },
  {
   "cell_type": "code",
   "execution_count": 63,
   "id": "73f3c2e5-8e2d-41e8-85bd-16e1fd8a7ef2",
   "metadata": {
    "panel-layout": {
     "height": 0,
     "visible": true,
     "width": 100
    }
   },
   "outputs": [
    {
     "name": "stdout",
     "output_type": "stream",
     "text": [
      "['milk', 'bread', 'fruits', 'cheese']\n",
      "milk\n",
      "cheese\n"
     ]
    }
   ],
   "source": [
    "shopping_list = ['milk', 'bread', 'eggs', 'butter']\n",
    "shopping_list.append(\"cheese\")\n",
    "shopping_list[2]=(\"fruits\")\n",
    "shopping_list.remove(\"butter\")\n",
    "print(shopping_list)\n",
    "print(shopping_list[0])\n",
    "print(shopping_list[3])"
   ]
  },
  {
   "cell_type": "markdown",
   "id": "99612170-66b2-4409-a184-1b29d2e1b5af",
   "metadata": {
    "panel-layout": {
     "height": 873.7374877929688,
     "visible": true,
     "width": 100
    }
   },
   "source": [
    "2.\tUpdate a To-Do List:\n",
    "Given a list todo_list = ['homework', 'laundry', 'groceries', 'workout'], write a program to:\n",
    "\t•\tRemove 'laundry' from the list.\n",
    "\t•\tInsert 'cleaning' after 'groceries'.\n",
    "\t•\tAdd 'reading' at the end of the list.\n",
    "\t•\tAccess and print the third item in the updated list."
   ]
  },
  {
   "cell_type": "code",
   "execution_count": 65,
   "id": "0d9f124e-8c56-401d-8f79-86e4865779be",
   "metadata": {
    "panel-layout": {
     "height": 0,
     "visible": true,
     "width": 100
    }
   },
   "outputs": [
    {
     "name": "stdout",
     "output_type": "stream",
     "text": [
      "['homework', 'groceries', 'cleaning', 'workout', 'reading']\n",
      "cleaning\n"
     ]
    }
   ],
   "source": [
    "todo_list = ['homework', 'laundry', 'groceries', 'workout']\n",
    "todo_list.remove(\"laundry\")\n",
    "todo_list.insert(2,\"cleaning\")\n",
    "todo_list.append(\"reading\")\n",
    "print(todo_list)\n",
    "print(todo_list[2])"
   ]
  },
  {
   "cell_type": "markdown",
   "id": "3c7f8814-8ff7-4a5d-a62d-95d2a6420a57",
   "metadata": {
    "panel-layout": {
     "height": 371.6125183105469,
     "visible": true,
     "width": 100
    }
   },
   "source": [
    "# LIST TO STRING\n",
    "1. JOIN METHOD: only works on string value"
   ]
  },
  {
   "cell_type": "code",
   "execution_count": 67,
   "id": "9057109e-1e49-4205-9f21-1724ba02cd4c",
   "metadata": {
    "panel-layout": {
     "height": 0,
     "visible": true,
     "width": 100
    }
   },
   "outputs": [
    {
     "name": "stdout",
     "output_type": "stream",
     "text": [
      "apple is a fruit\n"
     ]
    }
   ],
   "source": [
    "lst=[\"apple\",\"is\",\"a\",\"fruit\"]\n",
    "a=' '.join(lst)\n",
    "print(a)"
   ]
  },
  {
   "cell_type": "code",
   "execution_count": 68,
   "id": "ec8080d7-1ca8-4194-b6bb-ef9685de41df",
   "metadata": {
    "panel-layout": {
     "height": 0,
     "visible": true,
     "width": 100
    }
   },
   "outputs": [
    {
     "name": "stdout",
     "output_type": "stream",
     "text": [
      "1 - 2 - 3 - 4 - 5\n",
      "1 $ 2 $ 3 $ 4 $ 5\n",
      "1 2 3 4 5\n"
     ]
    }
   ],
   "source": [
    "lst1=[\"1\",\"2\",\"3\",\"4\",\"5\"]\n",
    "b=\" - \".join(lst1)\n",
    "c=\" $ \".join(lst1)\n",
    "d=\" \".join(lst1)\n",
    "print(b)\n",
    "print(c)\n",
    "print(d)"
   ]
  },
  {
   "cell_type": "markdown",
   "id": "1ee79683-7e08-4360-9440-15dcdbc8d359",
   "metadata": {
    "panel-layout": {
     "height": 85.4124984741211,
     "visible": true,
     "width": 100
    }
   },
   "source": [
    "2. JOIN WITH MAP:"
   ]
  },
  {
   "cell_type": "code",
   "execution_count": 70,
   "id": "15fa5ad1-a13f-4b3f-9ad4-2b7bcc0585ff",
   "metadata": {
    "panel-layout": {
     "height": 0,
     "visible": true,
     "width": 100
    }
   },
   "outputs": [
    {
     "name": "stdout",
     "output_type": "stream",
     "text": [
      "1-2-3-4-5\n"
     ]
    }
   ],
   "source": [
    "l=[1,2,3,4,5]\n",
    "a=\"-\".join(map(str,l))\n",
    "print(a)"
   ]
  },
  {
   "cell_type": "markdown",
   "id": "25c3676b-4fb6-486d-9f90-574afa5fecb7",
   "metadata": {},
   "source": [
    "3. STR( ) WITH REPLACE( )"
   ]
  },
  {
   "cell_type": "code",
   "execution_count": 72,
   "id": "5b5ce7ca-00c7-4581-8b6f-f8bcb81b10e6",
   "metadata": {},
   "outputs": [
    {
     "name": "stdout",
     "output_type": "stream",
     "text": [
      "dog cat elephant\n"
     ]
    }
   ],
   "source": [
    "list=['dog','cat','elephant']\n",
    "m=str(list).replace(\"[\",\"\").replace(\"]\",\"\").replace(\"'\",\"\").replace(\",\",\"\")\n",
    "print(m)"
   ]
  },
  {
   "cell_type": "code",
   "execution_count": 73,
   "id": "69a8931c-394c-4ba2-b271-57af522acd81",
   "metadata": {},
   "outputs": [
    {
     "name": "stdout",
     "output_type": "stream",
     "text": [
      "-1-\n",
      "-1-2-\n",
      "-1-2-3-\n",
      "-1-2-3-4-\n",
      "-1-2-3-4-5-\n"
     ]
    }
   ],
   "source": [
    "l1=[\"1\",\"2\",\"3\",\"4\",\"5\"]\n",
    "a=\"-\"\n",
    "for i in l1:\n",
    "    a+=i+\"-\"\n",
    "    a=a.strip()\n",
    "    print(a)"
   ]
  },
  {
   "cell_type": "code",
   "execution_count": 74,
   "id": "647d7eab-462f-4c4e-9a7e-d3c444114a06",
   "metadata": {},
   "outputs": [
    {
     "name": "stdout",
     "output_type": "stream",
     "text": [
      "1 2 3 4 5 6\n"
     ]
    }
   ],
   "source": [
    "x=[1,2,3,4,5,6]\n",
    "y=\" \".join(str(i) for i in x)\n",
    "print(y)\n"
   ]
  },
  {
   "cell_type": "markdown",
   "id": "ac8612d2-95f8-4de9-aba3-c63f6c65b50f",
   "metadata": {},
   "source": [
    "# sorting"
   ]
  },
  {
   "cell_type": "markdown",
   "id": "267b7b6d-2e12-4598-83d4-28bdd2bf331d",
   "metadata": {},
   "source": [
    "1. sort()\n",
    "2. sorted()"
   ]
  },
  {
   "cell_type": "code",
   "execution_count": 77,
   "id": "6aea0f5c-0601-4d3f-bdda-53f5523d5ae4",
   "metadata": {},
   "outputs": [
    {
     "name": "stdout",
     "output_type": "stream",
     "text": [
      "[34, 45, 63, 67, 81, 98]\n",
      "[98, 81, 67, 63, 45, 34]\n"
     ]
    }
   ],
   "source": [
    "list2=[45,67,98,34,81,63]\n",
    "list2.sort()\n",
    "print(list2)\n",
    "list2.sort(reverse=True)\n",
    "print(list2)"
   ]
  },
  {
   "cell_type": "code",
   "execution_count": 78,
   "id": "8300aa0d-37c3-4d74-8d2a-9be8655c8d53",
   "metadata": {},
   "outputs": [
    {
     "name": "stdout",
     "output_type": "stream",
     "text": [
      "['apple', 'mango', 'graphs', 'banana', 'pineapple']\n"
     ]
    }
   ],
   "source": [
    "list3=[\"apple\",\"mango\",\"pineapple\",\"graphs\",\"banana\"]\n",
    "list3.sort(key=len)\n",
    "print(list3)"
   ]
  },
  {
   "cell_type": "code",
   "execution_count": 79,
   "id": "19e52847-0c6e-4fa3-a93c-00eca922d991",
   "metadata": {},
   "outputs": [
    {
     "name": "stdout",
     "output_type": "stream",
     "text": [
      "['apple', 'mango', 'banana', 'graphs', 'pineapple']\n"
     ]
    }
   ],
   "source": [
    "list3.sort(key=lambda x: (len(x),x))\n",
    "print(list3)"
   ]
  },
  {
   "cell_type": "code",
   "execution_count": 80,
   "id": "dbc42f9a-90e9-4ee0-80ae-e229cb6285df",
   "metadata": {},
   "outputs": [
    {
     "name": "stdout",
     "output_type": "stream",
     "text": [
      "['mongodb', 'python', 'rust', 'ruby', 'mode', 'java']\n"
     ]
    }
   ],
   "source": [
    "list4=[\"java\",\"ruby\",\"rust\",\"python\",\"mongodb\",\"mode\"]\n",
    "list4.sort(key=lambda x: (len(x),x),reverse=True)\n",
    "print(list4)"
   ]
  },
  {
   "cell_type": "code",
   "execution_count": 151,
   "id": "3317c2ca-ac4f-4822-ae4f-2e69dce6e21c",
   "metadata": {},
   "outputs": [
    {
     "name": "stdout",
     "output_type": "stream",
     "text": [
      "[2, 4, 5, 14, 22, 32, 108]\n"
     ]
    }
   ],
   "source": [
    "list5=[2,5,22,32,4,14,108]\n",
    "new=sorted(list5)\n",
    "print(new)\n"
   ]
  },
  {
   "cell_type": "code",
   "execution_count": 175,
   "id": "c7f990ff-4ab9-401d-891c-f975146ef6e9",
   "metadata": {},
   "outputs": [
    {
     "name": "stdout",
     "output_type": "stream",
     "text": [
      "[5, 7, 9]\n"
     ]
    }
   ],
   "source": [
    "list6 = [(9, 0), (5, 4), (7, 2)]\n",
    "first = sorted(x[0] for x in list6)\n",
    "print(first)"
   ]
  },
  {
   "cell_type": "markdown",
   "id": "6c69b90f-f690-4c87-b9e2-8e64013146cf",
   "metadata": {},
   "source": [
    "# copying"
   ]
  },
  {
   "cell_type": "markdown",
   "id": "d0e1b74e-0bec-404b-afc7-59f8279e5bd3",
   "metadata": {},
   "source": [
    "1. shallow copy = .copy( )\n",
    "2. deep copy = copy.deepcopy(list)"
   ]
  },
  {
   "cell_type": "code",
   "execution_count": 234,
   "id": "c44c0c23-d98f-4482-8294-c1615c0df5c5",
   "metadata": {},
   "outputs": [],
   "source": [
    "list7=[2,5,8,9,3,1,4,6]\n",
    "y=list7.copy()"
   ]
  },
  {
   "cell_type": "code",
   "execution_count": 236,
   "id": "5f6519e0-886d-44e6-a9c5-a9066b0fb38c",
   "metadata": {},
   "outputs": [],
   "source": [
    "list7.append(20)\n",
    "list7.append(62)"
   ]
  },
  {
   "cell_type": "code",
   "execution_count": 238,
   "id": "3b8ef77c-42e1-4bda-bf34-e75fa82b9100",
   "metadata": {},
   "outputs": [
    {
     "name": "stdout",
     "output_type": "stream",
     "text": [
      "[2, 5, 8, 9, 3, 1, 4, 6]\n",
      "[2, 5, 8, 9, 3, 1, 4, 6, 20, 62]\n"
     ]
    }
   ],
   "source": [
    "import copy\n",
    "x=copy.deepcopy(list7)\n",
    "print(y)\n",
    "print(x)"
   ]
  },
  {
   "cell_type": "code",
   "execution_count": 242,
   "id": "f45fedd0-5b7d-4ff9-9b85-49d0d2cc5323",
   "metadata": {},
   "outputs": [
    {
     "name": "stdout",
     "output_type": "stream",
     "text": [
      "[[2, 3, 7], [9, 8]]\n",
      "[[2, 3, 7], [9, 8]]\n"
     ]
    }
   ],
   "source": [
    "list8=[[2,3,5],[9,8]]\n",
    "new_list=list8.copy()\n",
    "list8[0][2]=7\n",
    "print(list8)\n",
    "print(new_list)"
   ]
  },
  {
   "cell_type": "code",
   "execution_count": 246,
   "id": "79bebf62-b9d3-4fa1-9cb0-a4fbdc5a0564",
   "metadata": {},
   "outputs": [
    {
     "name": "stdout",
     "output_type": "stream",
     "text": [
      "[[2, 3, 7], [9, 8]]\n",
      "[[2, 3, 5], [9, 8]]\n"
     ]
    }
   ],
   "source": [
    "import copy\n",
    "list8=[[2,3,5],[9,8]]\n",
    "new_list=copy.deepcopy(list8)\n",
    "list8[0][2]=7\n",
    "print(list8)\n",
    "print(new_list)"
   ]
  },
  {
   "cell_type": "markdown",
   "id": "145a90b2-8a42-4836-b668-8c8990e0358c",
   "metadata": {},
   "source": [
    "Write a program to calculate the sum of all even numbers\n",
    "in a list of integers."
   ]
  },
  {
   "cell_type": "code",
   "execution_count": 23,
   "id": "ae2262cf-2b89-42a2-9d72-14e536e5eeb1",
   "metadata": {},
   "outputs": [
    {
     "name": "stdout",
     "output_type": "stream",
     "text": [
      "sum of even numbers is:  20\n"
     ]
    }
   ],
   "source": [
    "list=[1,2,3,4,5,6,7,8,9]\n",
    "sum=0\n",
    "for i in list:\n",
    "    if i%2==0:\n",
    "        sum+=i\n",
    "print(\"sum of even numbers is: \",sum)\n",
    "        \n",
    "        "
   ]
  },
  {
   "cell_type": "code",
   "execution_count": null,
   "id": "db5cfc94-0b8f-4a5c-bfaf-8975b89436f1",
   "metadata": {},
   "outputs": [],
   "source": []
  },
  {
   "cell_type": "code",
   "execution_count": null,
   "id": "d40a89f3-5db9-4930-948b-2a8c6d891059",
   "metadata": {},
   "outputs": [],
   "source": []
  },
  {
   "cell_type": "code",
   "execution_count": null,
   "id": "9eec289a-b913-4bde-a7ee-a6baa6c63c4c",
   "metadata": {},
   "outputs": [],
   "source": []
  }
 ],
 "metadata": {
  "kernelspec": {
   "display_name": "Python [conda env:base] *",
   "language": "python",
   "name": "conda-base-py"
  },
  "language_info": {
   "codemirror_mode": {
    "name": "ipython",
    "version": 3
   },
   "file_extension": ".py",
   "mimetype": "text/x-python",
   "name": "python",
   "nbconvert_exporter": "python",
   "pygments_lexer": "ipython3",
   "version": "3.12.7"
  },
  "panel-cell-order": [
   "40dfbab6-c4b8-4dba-b540-133225583249",
   "355b2e74-7659-499d-b4fa-c6b2da9627ff",
   "b6e6157c-1be1-4414-aa5c-a60aff4adbdc",
   "b46e5a07-60a0-406b-92ca-0d6a70a07517",
   "a701face-5e23-45cd-82dc-147a431d1efd",
   "d2624126-8312-4441-bf6d-745c3bc66586",
   "f9bed1d0-2cd9-4cdd-82f4-3afde408f675",
   "4c10c70f-780f-4d2d-be94-3fc94cf9053f",
   "4a016e4d-c007-47d4-9dd0-85042677a40f",
   "a5086ac3-0ab8-45d4-a3d8-b8c1a17065ef",
   "6d1c8bad-6629-49a3-b6c4-363e368f7aa8",
   "e68bbff0-47e7-4ac7-ad91-ca0e75872ca1",
   "a866c81e-d92d-4e3f-ba74-9e82fb9e5563",
   "2c426e6e-6666-4dd6-8e76-3f72e923f13a",
   "134d2db6-c81b-43d8-84ae-f5ea54e880c2",
   "074fadfd-7ede-47f8-a439-5fc5d0c2fb4c",
   "c964b748-e247-4b03-b9d0-392f0a2f1d6c",
   "bebf1cf1-f4ee-42c8-a5be-88f77744a145",
   "6d44df19-f7c2-402f-955c-a93cdbc82d8a",
   "5651d42a-8902-47c5-97eb-f57fffcbb928",
   "283c234b-87b7-461d-b1e7-6701b06c89dc",
   "ca9e873f-37d3-4d4d-87be-eae683df43f5",
   "7c6f488a-0f3f-4d5e-86a7-e3581b8ac561",
   "c766fc57-a44e-4945-921a-d0899c5ac023",
   "ec19d12d-362b-41d1-a83c-3fc7aa8b3267",
   "f8dfc910-dce7-41e4-867f-f71d2bbbeddc",
   "01a23ca7-4209-48c2-951e-c8ef1326f374",
   "c22ad919-ff8b-4515-a2d0-696b0e2c9d58",
   "5569cc8d-b23f-4bc8-8c0d-ce54aa7f6156",
   "21d07563-f946-4ddb-a462-890b704d1882",
   "f9fb6192-17d6-4dec-bd01-bf571cc97a0a",
   "1c5570af-b923-4e6f-903d-66dcbdec7b5f",
   "edf6aa82-fa3a-4e5d-9155-8988b5791193",
   "dba3c71f-579e-42a4-b70b-4a394b283cc6",
   "accdd274-5117-49d7-82be-3a326e1dc18d",
   "bcfd15f8-7664-4e5c-8527-2556d159ea26",
   "8abc8baf-f324-4238-a6a3-45d768b5694e",
   "778aa2c9-d78d-4ec1-92e4-065762c73af6",
   "bfbba410-838c-4056-8938-68d970e0b884",
   "445b0d74-a8ed-4ed8-9475-ff9935041fec",
   "b60de522-bce2-48e6-95d0-5c886a8768e0",
   "73f3c2e5-8e2d-41e8-85bd-16e1fd8a7ef2",
   "99612170-66b2-4409-a184-1b29d2e1b5af",
   "0d9f124e-8c56-401d-8f79-86e4865779be",
   "3c7f8814-8ff7-4a5d-a62d-95d2a6420a57",
   "9057109e-1e49-4205-9f21-1724ba02cd4c",
   "ec8080d7-1ca8-4194-b6bb-ef9685de41df",
   "1ee79683-7e08-4360-9440-15dcdbc8d359",
   "15fa5ad1-a13f-4b3f-9ad4-2b7bcc0585ff"
  ]
 },
 "nbformat": 4,
 "nbformat_minor": 5
}
