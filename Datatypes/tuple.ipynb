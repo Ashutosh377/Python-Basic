{
 "cells": [
  {
   "cell_type": "code",
   "execution_count": 1,
   "id": "12bb95be-7430-4cc6-b9de-2da2e499f382",
   "metadata": {},
   "outputs": [],
   "source": [
    "a=(1,2,3,4,56,6,7,5,3)"
   ]
  },
  {
   "cell_type": "code",
   "execution_count": 2,
   "id": "a3f55a54-ed54-4d86-b311-202ebac060b0",
   "metadata": {},
   "outputs": [
    {
     "data": {
      "text/plain": [
       "tuple"
      ]
     },
     "execution_count": 2,
     "metadata": {},
     "output_type": "execute_result"
    }
   ],
   "source": [
    "type(a)"
   ]
  },
  {
   "cell_type": "code",
   "execution_count": 3,
   "id": "abbf64f8-f025-4a8e-8af2-94075835da1b",
   "metadata": {},
   "outputs": [
    {
     "data": {
      "text/plain": [
       "56"
      ]
     },
     "execution_count": 3,
     "metadata": {},
     "output_type": "execute_result"
    }
   ],
   "source": [
    "b=max(a)\n",
    "b"
   ]
  },
  {
   "cell_type": "code",
   "execution_count": 5,
   "id": "96944d23-e624-48a3-9155-9cf5ffc763e3",
   "metadata": {},
   "outputs": [
    {
     "data": {
      "text/plain": [
       "1"
      ]
     },
     "execution_count": 5,
     "metadata": {},
     "output_type": "execute_result"
    }
   ],
   "source": [
    "c=min(a)\n",
    "c"
   ]
  },
  {
   "cell_type": "code",
   "execution_count": 9,
   "id": "f5c3f2f5-b3c5-42ff-8536-9e7aa0350244",
   "metadata": {},
   "outputs": [
    {
     "data": {
      "text/plain": [
       "(1, 2, (3, 4, 5), 6, 7)"
      ]
     },
     "execution_count": 9,
     "metadata": {},
     "output_type": "execute_result"
    }
   ],
   "source": [
    "t1=(1,2,(3,4,5),6,7)\n",
    "t1"
   ]
  },
  {
   "cell_type": "code",
   "execution_count": 12,
   "id": "818916b4-c4b0-46ad-9ed2-a66c991c429e",
   "metadata": {},
   "outputs": [
    {
     "data": {
      "text/plain": [
       "(3, 4, 5)"
      ]
     },
     "execution_count": 12,
     "metadata": {},
     "output_type": "execute_result"
    }
   ],
   "source": [
    "t1[2]"
   ]
  },
  {
   "cell_type": "code",
   "execution_count": 13,
   "id": "8b74cb42-df4d-48f3-9d4d-3a923aad684c",
   "metadata": {},
   "outputs": [],
   "source": [
    "t2=(25,45,\"feminist\")"
   ]
  },
  {
   "cell_type": "code",
   "execution_count": 15,
   "id": "c04e6ab8-e6f8-413a-bdd0-bcd156384f09",
   "metadata": {},
   "outputs": [
    {
     "data": {
      "text/plain": [
       "25"
      ]
     },
     "execution_count": 15,
     "metadata": {},
     "output_type": "execute_result"
    }
   ],
   "source": [
    "t2[0]"
   ]
  },
  {
   "cell_type": "code",
   "execution_count": 16,
   "id": "22e94ab7-116e-47a0-b489-20e869d12ab5",
   "metadata": {},
   "outputs": [
    {
     "data": {
      "text/plain": [
       "('container', 'tuple', ('doker', 'java'), 40, 88)"
      ]
     },
     "execution_count": 16,
     "metadata": {},
     "output_type": "execute_result"
    }
   ],
   "source": [
    "t3=(\"container\",\"tuple\",(\"doker\",\"java\"),40,88)\n",
    "t3"
   ]
  },
  {
   "cell_type": "code",
   "execution_count": 19,
   "id": "ef33a631-8b4d-4c4e-ab5a-8b50804dc593",
   "metadata": {},
   "outputs": [
    {
     "name": "stdout",
     "output_type": "stream",
     "text": [
      "java\n"
     ]
    }
   ],
   "source": [
    "print(t3[2][1])"
   ]
  },
  {
   "cell_type": "code",
   "execution_count": 25,
   "id": "71597b45-a9a6-432b-a8f1-615b918cb61b",
   "metadata": {},
   "outputs": [
    {
     "name": "stdout",
     "output_type": "stream",
     "text": [
      "(3, 4)\n",
      "(2,)\n"
     ]
    }
   ],
   "source": [
    "t4=(1,2,3,4,5,6,7)\n",
    "print(t4[2:4])\n",
    "print(t4[1:2])"
   ]
  },
  {
   "cell_type": "code",
   "execution_count": 36,
   "id": "71d4fd06-b297-40b9-97ea-c1ea2491c494",
   "metadata": {},
   "outputs": [],
   "source": [
    "num=(\"area\",\"speed\",(49,58,63),79,\"abc\",(48,59),39)"
   ]
  },
  {
   "cell_type": "code",
   "execution_count": 37,
   "id": "f606b875-2d81-4ee1-aff9-cb19c082e847",
   "metadata": {},
   "outputs": [
    {
     "name": "stdout",
     "output_type": "stream",
     "text": [
      "('area', 'speed', (49, 58, 63), 79, 'abc', (48, 59), 39)\n"
     ]
    }
   ],
   "source": [
    "print(num)"
   ]
  },
  {
   "cell_type": "code",
   "execution_count": 38,
   "id": "25ee5048-ad09-49c1-a633-62b3fabe050b",
   "metadata": {},
   "outputs": [
    {
     "name": "stdout",
     "output_type": "stream",
     "text": [
      "63\n"
     ]
    }
   ],
   "source": [
    "print(num[2][2])"
   ]
  },
  {
   "cell_type": "code",
   "execution_count": 39,
   "id": "dbd83581-c49e-40cf-ac74-4765da5b836e",
   "metadata": {},
   "outputs": [
    {
     "name": "stdout",
     "output_type": "stream",
     "text": [
      "48\n"
     ]
    }
   ],
   "source": [
    "print(num[5][0])"
   ]
  },
  {
   "cell_type": "code",
   "execution_count": 41,
   "id": "6afc9659-009f-45c1-9481-1d1e9bb320ae",
   "metadata": {},
   "outputs": [
    {
     "name": "stdout",
     "output_type": "stream",
     "text": [
      "('speed', (49, 58, 63), 79)\n"
     ]
    }
   ],
   "source": [
    "print(num[1:4])"
   ]
  },
  {
   "cell_type": "markdown",
   "id": "8c8ea378-2cdb-4574-9a86-bc802b828bab",
   "metadata": {},
   "source": [
    "tuple operation\n",
    "1. concatenation= merge two or multiple tuples"
   ]
  },
  {
   "cell_type": "code",
   "execution_count": 43,
   "id": "5f83d8b8-1b7c-48ac-be57-0db49c2166f9",
   "metadata": {},
   "outputs": [
    {
     "name": "stdout",
     "output_type": "stream",
     "text": [
      "(5, 6, 7, 8, 9, 10)\n"
     ]
    }
   ],
   "source": [
    "T1=(5,6,7)\n",
    "T2=(8,9,10)\n",
    "print(T1+T2)"
   ]
  },
  {
   "cell_type": "markdown",
   "id": "86e6f647-6087-4a87-b93f-0174cb348b3a",
   "metadata": {},
   "source": [
    "2. repetation"
   ]
  },
  {
   "cell_type": "code",
   "execution_count": 44,
   "id": "fa6ac6e4-96b9-4199-9135-dfee6d4b4b1e",
   "metadata": {},
   "outputs": [
    {
     "name": "stdout",
     "output_type": "stream",
     "text": [
      "(1, 2, 1, 2, 1, 2)\n"
     ]
    }
   ],
   "source": [
    "T3=(1,2)\n",
    "print(T3*3)"
   ]
  },
  {
   "cell_type": "code",
   "execution_count": 45,
   "id": "caeea738-533e-4237-82d6-476bacffaa62",
   "metadata": {},
   "outputs": [
    {
     "name": "stdout",
     "output_type": "stream",
     "text": [
      "(4, 6, 4, 6, 4, 6, 4, 6, 4, 6)\n"
     ]
    }
   ],
   "source": [
    "a=(4,6)\n",
    "print(a*5)"
   ]
  },
  {
   "cell_type": "markdown",
   "id": "e1a6ebdb-0e57-4b58-945c-db15a3ac5020",
   "metadata": {},
   "source": [
    "3. To check the presence"
   ]
  },
  {
   "cell_type": "code",
   "execution_count": 46,
   "id": "bd19e5bf-d025-4cd4-90d6-d026d5e4a405",
   "metadata": {},
   "outputs": [],
   "source": [
    "b=(3,5,7,8,9)"
   ]
  },
  {
   "cell_type": "code",
   "execution_count": 49,
   "id": "925660b3-53f8-4127-9fea-c42280e1f062",
   "metadata": {},
   "outputs": [
    {
     "name": "stdout",
     "output_type": "stream",
     "text": [
      "False\n"
     ]
    }
   ],
   "source": [
    "print(4 in b)"
   ]
  },
  {
   "cell_type": "markdown",
   "id": "ea399ac4-ebc8-4aa2-a101-8e5f31f313ed",
   "metadata": {},
   "source": [
    "4. We can find the length"
   ]
  },
  {
   "cell_type": "code",
   "execution_count": 50,
   "id": "05a71950-34e2-42d0-b96e-6abcee68a0d4",
   "metadata": {},
   "outputs": [
    {
     "name": "stdout",
     "output_type": "stream",
     "text": [
      "6\n"
     ]
    }
   ],
   "source": [
    "c=(3,5,7,3,2,9)\n",
    "print(len(c))"
   ]
  },
  {
   "cell_type": "code",
   "execution_count": 51,
   "id": "bf4f51ab-4cab-4851-8647-162dda074964",
   "metadata": {},
   "outputs": [
    {
     "name": "stdout",
     "output_type": "stream",
     "text": [
      "10\n"
     ]
    }
   ],
   "source": [
    "d=(12,4,5,67,8,6,0,4,3,47)\n",
    "print(len(d))"
   ]
  },
  {
   "cell_type": "code",
   "execution_count": 55,
   "id": "8fbc1725-87ab-4bbe-b76f-773edfd4f0c8",
   "metadata": {},
   "outputs": [
    {
     "name": "stdout",
     "output_type": "stream",
     "text": [
      "0\n"
     ]
    }
   ],
   "source": [
    "print(d.count(2))"
   ]
  },
  {
   "cell_type": "code",
   "execution_count": 52,
   "id": "9d74c701-6cc7-44d3-9d73-a6aeb9a28eb1",
   "metadata": {},
   "outputs": [
    {
     "name": "stdout",
     "output_type": "stream",
     "text": [
      "(12, 4, 5, 67, 8, 6, 0, 4, 3, 47, 11, 23, 45, 67, 89)\n"
     ]
    }
   ],
   "source": [
    "e=(11,23,45,67,89)\n",
    "print(d+e)"
   ]
  },
  {
   "cell_type": "code",
   "execution_count": 53,
   "id": "cf9696eb-eef4-424e-9e4e-a24bd6b2d6f8",
   "metadata": {},
   "outputs": [
    {
     "name": "stdout",
     "output_type": "stream",
     "text": [
      "False\n"
     ]
    }
   ],
   "source": [
    "print(5 in e)"
   ]
  },
  {
   "cell_type": "markdown",
   "id": "faf978b1-37d5-45c6-9829-e1debd2fde3e",
   "metadata": {},
   "source": [
    "Tuple methods"
   ]
  },
  {
   "cell_type": "markdown",
   "id": "0f68e016-e037-4c16-a5f3-198528fcdd9b",
   "metadata": {},
   "source": [
    "Inbuilt Methods\n",
    "1. count()\n",
    "2. index()"
   ]
  },
  {
   "cell_type": "code",
   "execution_count": 61,
   "id": "259fbd17-1c6d-464d-b60d-d4564e1399c8",
   "metadata": {},
   "outputs": [
    {
     "name": "stdout",
     "output_type": "stream",
     "text": [
      "2\n"
     ]
    }
   ],
   "source": [
    "z=(1,2,2,3,4,5,5,5,6,6,7)\n",
    "print(z.count(6))"
   ]
  },
  {
   "cell_type": "code",
   "execution_count": 58,
   "id": "59c5367a-8dcb-4ec1-9804-aa88ef919586",
   "metadata": {},
   "outputs": [
    {
     "name": "stdout",
     "output_type": "stream",
     "text": [
      "10\n"
     ]
    }
   ],
   "source": [
    "print(z.index(7))"
   ]
  },
  {
   "cell_type": "code",
   "execution_count": 62,
   "id": "dbcb087e-f76b-4fcc-9cd6-3f3aa635d59b",
   "metadata": {},
   "outputs": [
    {
     "name": "stdout",
     "output_type": "stream",
     "text": [
      "4 5 6\n"
     ]
    }
   ],
   "source": [
    "z1=(4,5,6)\n",
    "a,b,c=z1\n",
    "print(a,b,c)"
   ]
  },
  {
   "cell_type": "code",
   "execution_count": 68,
   "id": "e6b11955-c288-40e1-b256-57033948c282",
   "metadata": {},
   "outputs": [
    {
     "name": "stdout",
     "output_type": "stream",
     "text": [
      "[3, 5, 9, 6, 2, 5]\n"
     ]
    }
   ],
   "source": [
    "x=(3,5,9,6,2,5)\n",
    "y=list(x)\n",
    "print(y)\n"
   ]
  },
  {
   "cell_type": "code",
   "execution_count": 71,
   "id": "9782d350-dc9d-4b13-b885-47d4701d6463",
   "metadata": {},
   "outputs": [],
   "source": [
    "y.sort()"
   ]
  },
  {
   "cell_type": "code",
   "execution_count": 72,
   "id": "04853ac8-030c-4fff-bc9f-5833c57038f6",
   "metadata": {},
   "outputs": [
    {
     "data": {
      "text/plain": [
       "[2, 3, 5, 5, 6, 9]"
      ]
     },
     "execution_count": 72,
     "metadata": {},
     "output_type": "execute_result"
    }
   ],
   "source": [
    "y"
   ]
  },
  {
   "cell_type": "code",
   "execution_count": 79,
   "id": "9c120cd6-5a3a-4891-a663-9bd67e8b2782",
   "metadata": {},
   "outputs": [
    {
     "name": "stdout",
     "output_type": "stream",
     "text": [
      "(1, 6, 1, 2, 3, 8)\n"
     ]
    }
   ],
   "source": [
    "nested=((1,6),(1,2),(3,8))\n",
    "h=tuple(item for sub in nested for item in sub)\n",
    "print(h)"
   ]
  },
  {
   "cell_type": "code",
   "execution_count": 80,
   "id": "ebb7c2c9-122a-40d6-a90a-5a57fedba420",
   "metadata": {},
   "outputs": [
    {
     "name": "stdout",
     "output_type": "stream",
     "text": [
      "found\n"
     ]
    }
   ],
   "source": [
    "k=(3,4,6,9,5,2,9)\n",
    "if(5 in k):\n",
    "    print(\"found\")\n",
    "else:\n",
    "    print(\"not found\")"
   ]
  },
  {
   "cell_type": "code",
   "execution_count": 119,
   "id": "4a8b2b68-7cd9-4393-a76e-29aa7c2c7722",
   "metadata": {},
   "outputs": [],
   "source": [
    "n=(1,3,19,9,5,45,67,98,3,4,66,7,8,2,52,44,6,8,12,14)\n",
    "m=list(n)"
   ]
  },
  {
   "cell_type": "code",
   "execution_count": 120,
   "id": "594c71a5-af8b-45e8-ba90-034c5f51280e",
   "metadata": {},
   "outputs": [
    {
     "data": {
      "text/plain": [
       "[1, 3, 19, 9, 5, 45, 67, 98, 3, 4, 66, 7, 8, 2, 52, 44, 6, 8, 12, 14]"
      ]
     },
     "execution_count": 120,
     "metadata": {},
     "output_type": "execute_result"
    }
   ],
   "source": [
    "m"
   ]
  },
  {
   "cell_type": "code",
   "execution_count": 121,
   "id": "15e07fc4-e760-4bd1-b0a9-37f38c48bf11",
   "metadata": {},
   "outputs": [
    {
     "name": "stdout",
     "output_type": "stream",
     "text": [
      "98\n"
     ]
    }
   ],
   "source": [
    "g=max(m)\n",
    "print(g)"
   ]
  },
  {
   "cell_type": "code",
   "execution_count": 122,
   "id": "16b43ed1-b025-495d-a101-e5192cb263f9",
   "metadata": {},
   "outputs": [],
   "source": [
    "m.remove(g)"
   ]
  },
  {
   "cell_type": "code",
   "execution_count": 123,
   "id": "da01f21f-f547-4e81-aa67-28565d823236",
   "metadata": {},
   "outputs": [
    {
     "name": "stdout",
     "output_type": "stream",
     "text": [
      "67\n"
     ]
    }
   ],
   "source": [
    "s=max(m)\n",
    "print(s)"
   ]
  },
  {
   "cell_type": "code",
   "execution_count": 124,
   "id": "23d7fbd4-3bdd-456f-9225-389efed7e800",
   "metadata": {},
   "outputs": [],
   "source": [
    "m.remove(s)"
   ]
  },
  {
   "cell_type": "code",
   "execution_count": 125,
   "id": "4ab021cb-2e38-4a47-be84-ec01ae6232d6",
   "metadata": {},
   "outputs": [
    {
     "data": {
      "text/plain": [
       "[1, 3, 19, 9, 5, 45, 3, 4, 66, 7, 8, 2, 52, 44, 6, 8, 12, 14]"
      ]
     },
     "execution_count": 125,
     "metadata": {},
     "output_type": "execute_result"
    }
   ],
   "source": [
    "m"
   ]
  },
  {
   "cell_type": "code",
   "execution_count": 126,
   "id": "d77a7902-0dfa-45ab-8047-82f72f3da101",
   "metadata": {},
   "outputs": [],
   "source": [
    "new_max=max(m)"
   ]
  },
  {
   "cell_type": "code",
   "execution_count": 127,
   "id": "fcd4e10d-cb13-4a1f-9110-51578044208f",
   "metadata": {},
   "outputs": [
    {
     "data": {
      "text/plain": [
       "66"
      ]
     },
     "execution_count": 127,
     "metadata": {},
     "output_type": "execute_result"
    }
   ],
   "source": [
    "new_max"
   ]
  },
  {
   "cell_type": "code",
   "execution_count": 128,
   "id": "0646e0d3-29a3-4eea-85e1-6b1e720d4245",
   "metadata": {},
   "outputs": [],
   "source": [
    "m.sort()"
   ]
  },
  {
   "cell_type": "code",
   "execution_count": 129,
   "id": "70095ed8-cc5c-4da9-8e22-7dd62d40833c",
   "metadata": {},
   "outputs": [
    {
     "data": {
      "text/plain": [
       "[1, 2, 3, 3, 4, 5, 6, 7, 8, 8, 9, 12, 14, 19, 44, 45, 52, 66]"
      ]
     },
     "execution_count": 129,
     "metadata": {},
     "output_type": "execute_result"
    }
   ],
   "source": [
    "m"
   ]
  },
  {
   "cell_type": "code",
   "execution_count": null,
   "id": "303e8a89-3913-4e8d-9860-761327226de2",
   "metadata": {},
   "outputs": [],
   "source": []
  }
 ],
 "metadata": {
  "kernelspec": {
   "display_name": "Python [conda env:base] *",
   "language": "python",
   "name": "conda-base-py"
  },
  "language_info": {
   "codemirror_mode": {
    "name": "ipython",
    "version": 3
   },
   "file_extension": ".py",
   "mimetype": "text/x-python",
   "name": "python",
   "nbconvert_exporter": "python",
   "pygments_lexer": "ipython3",
   "version": "3.12.7"
  }
 },
 "nbformat": 4,
 "nbformat_minor": 5
}
