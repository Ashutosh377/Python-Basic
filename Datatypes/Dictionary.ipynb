{
 "cells": [
  {
   "cell_type": "markdown",
   "id": "20e16c31-f3bf-4f70-b1f7-3b50c1e64fe1",
   "metadata": {},
   "source": [
    "# Dictionary\n",
    "### Elements are enclosed within curly brackets with key values pairs. \n",
    "\n",
    "### keys will remain always unique.\n",
    "\n",
    "### Tuples can be used as keys but list doesn't because we can chnage the list\n",
    "\n",
    "d1={key1: value1, key2:value2}"
   ]
  },
  {
   "cell_type": "code",
   "execution_count": 123,
   "id": "c07ed9ef-3cec-4a5d-8823-41c32c6eee3f",
   "metadata": {},
   "outputs": [
    {
     "name": "stdout",
     "output_type": "stream",
     "text": [
      "{'Name': 'ashu', 'age': 21, 'grade': 87.5, 'pass': True}\n",
      "<class 'dict'>\n"
     ]
    }
   ],
   "source": [
    "d={\"Name\":\"ashu\",\"age\":21,\"grade\":87.5,\"pass\":True}\n",
    "print(d)\n",
    "print(type(d))"
   ]
  },
  {
   "cell_type": "code",
   "execution_count": 129,
   "id": "55ca0438-d9c5-41cf-b125-d7b364711d8c",
   "metadata": {},
   "outputs": [
    {
     "name": "stdout",
     "output_type": "stream",
     "text": [
      "dict_keys(['Name', 'age', 'grade', 'pass'])\n"
     ]
    }
   ],
   "source": [
    "print(d.keys())\n"
   ]
  },
  {
   "cell_type": "code",
   "execution_count": 131,
   "id": "50cec609-a082-4b29-a8e9-40d42bcdc1be",
   "metadata": {},
   "outputs": [
    {
     "name": "stdout",
     "output_type": "stream",
     "text": [
      "dict_values(['ashu', 21, 87.5, True])\n"
     ]
    }
   ],
   "source": [
    "print(d.values())\n"
   ]
  },
  {
   "cell_type": "code",
   "execution_count": 3,
   "id": "9a80b2c9-a8bc-4040-97fe-4fe2ca552c46",
   "metadata": {},
   "outputs": [
    {
     "data": {
      "text/plain": [
       "21"
      ]
     },
     "execution_count": 3,
     "metadata": {},
     "output_type": "execute_result"
    }
   ],
   "source": [
    "d[\"age\"] #indexing"
   ]
  },
  {
   "cell_type": "code",
   "execution_count": 4,
   "id": "909f4ff8-e9d5-42d5-9a2a-41007d32e2e0",
   "metadata": {},
   "outputs": [
    {
     "data": {
      "text/plain": [
       "{'Name': 'Ashutosh', 'age': 21, 'grade': 87.5, 'pass': True}"
      ]
     },
     "execution_count": 4,
     "metadata": {},
     "output_type": "execute_result"
    }
   ],
   "source": [
    "d[\"Name\"]=\"Ashutosh\"\n",
    "d"
   ]
  },
  {
   "cell_type": "code",
   "execution_count": 5,
   "id": "91537396-a813-4e5a-a539-c7c1cb2d4465",
   "metadata": {},
   "outputs": [
    {
     "data": {
      "text/plain": [
       "4"
      ]
     },
     "execution_count": 5,
     "metadata": {},
     "output_type": "execute_result"
    }
   ],
   "source": [
    "len(d)"
   ]
  },
  {
   "cell_type": "code",
   "execution_count": 6,
   "id": "ac0499c8-5c74-4ab1-b40c-b10ca708e4c3",
   "metadata": {},
   "outputs": [
    {
     "name": "stdout",
     "output_type": "stream",
     "text": [
      "{'age': 21, 'grade': 87.5, 'pass': True}\n"
     ]
    }
   ],
   "source": [
    "del d[\"Name\"] #Deleting an element\n",
    "print(d)"
   ]
  },
  {
   "cell_type": "code",
   "execution_count": 7,
   "id": "bf17101e-7620-497d-98fc-98c3b5940e0c",
   "metadata": {},
   "outputs": [
    {
     "name": "stdout",
     "output_type": "stream",
     "text": [
      "{'P_name': 'john', 'age': 30, 'diagnosis': 'BP'}\n"
     ]
    }
   ],
   "source": [
    "t=dict(P_name=\"john\",age=30,diagnosis=\"BP\")\n",
    "print(t)"
   ]
  },
  {
   "cell_type": "code",
   "execution_count": 8,
   "id": "dbeb7977-2da4-4236-b5cd-a8c37586b113",
   "metadata": {},
   "outputs": [
    {
     "data": {
      "text/plain": [
       "dict"
      ]
     },
     "execution_count": 8,
     "metadata": {},
     "output_type": "execute_result"
    }
   ],
   "source": [
    "type(t)"
   ]
  },
  {
   "cell_type": "code",
   "execution_count": 9,
   "id": "489ad0ec-2f3d-4bef-a60e-82632d1ffd29",
   "metadata": {},
   "outputs": [
    {
     "data": {
      "text/plain": [
       "{'name': 'john', 'age': 45, 'diagnosis': 'BP'}"
      ]
     },
     "execution_count": 9,
     "metadata": {},
     "output_type": "execute_result"
    }
   ],
   "source": [
    "lst=dict([(\"name\",\"john\"),(\"age\",45),(\"diagnosis\",\"BP\")])\n",
    "lst"
   ]
  },
  {
   "cell_type": "code",
   "execution_count": 10,
   "id": "a715055d-8871-4265-8b24-bc6941cfd9c2",
   "metadata": {},
   "outputs": [
    {
     "data": {
      "text/plain": [
       "dict"
      ]
     },
     "execution_count": 10,
     "metadata": {},
     "output_type": "execute_result"
    }
   ],
   "source": [
    "type(lst)"
   ]
  },
  {
   "cell_type": "code",
   "execution_count": 11,
   "id": "9d49fb2e-499f-4bf1-9674-1fa957abbb07",
   "metadata": {},
   "outputs": [
    {
     "data": {
      "text/plain": [
       "dict_keys(['name', 'age', 'diagnosis'])"
      ]
     },
     "execution_count": 11,
     "metadata": {},
     "output_type": "execute_result"
    }
   ],
   "source": [
    "lst.keys()"
   ]
  },
  {
   "cell_type": "code",
   "execution_count": 12,
   "id": "cb7fcaba-daf6-441c-97b9-8efcdcada4a3",
   "metadata": {},
   "outputs": [
    {
     "data": {
      "text/plain": [
       "dict_values(['john', 45, 'BP'])"
      ]
     },
     "execution_count": 12,
     "metadata": {},
     "output_type": "execute_result"
    }
   ],
   "source": [
    "lst.values()"
   ]
  },
  {
   "cell_type": "code",
   "execution_count": 13,
   "id": "189a7844-81ac-4571-8fdc-4b0e6b8b9996",
   "metadata": {},
   "outputs": [
    {
     "data": {
      "text/plain": [
       "dict_items([('name', 'john'), ('age', 45), ('diagnosis', 'BP')])"
      ]
     },
     "execution_count": 13,
     "metadata": {},
     "output_type": "execute_result"
    }
   ],
   "source": [
    "lst.items()"
   ]
  },
  {
   "cell_type": "code",
   "execution_count": 14,
   "id": "8d54876e-cab0-4806-a412-0a8c09d5fc79",
   "metadata": {},
   "outputs": [
    {
     "name": "stdout",
     "output_type": "stream",
     "text": [
      "john\n",
      "45\n",
      "BP\n"
     ]
    }
   ],
   "source": [
    "for a in lst.values():\n",
    "    print(a)"
   ]
  },
  {
   "cell_type": "code",
   "execution_count": 15,
   "id": "e81ca5b2-79bc-49c3-b1eb-37dfaf7cad42",
   "metadata": {},
   "outputs": [
    {
     "name": "stdout",
     "output_type": "stream",
     "text": [
      "('name', 'john')\n",
      "('age', 45)\n",
      "('diagnosis', 'BP')\n"
     ]
    }
   ],
   "source": [
    "for a in lst.items():\n",
    "    print(a)"
   ]
  },
  {
   "cell_type": "code",
   "execution_count": 16,
   "id": "3b0c2daf-6e99-436c-8df5-d8b20958b8d4",
   "metadata": {},
   "outputs": [
    {
     "name": "stdout",
     "output_type": "stream",
     "text": [
      "key is: name and value is: john\n",
      "key is: age and value is: 45\n",
      "key is: diagnosis and value is: BP\n"
     ]
    }
   ],
   "source": [
    "for a,b in lst.items():\n",
    "    print(f\"key is: {a} and value is: {b}\")"
   ]
  },
  {
   "cell_type": "code",
   "execution_count": 17,
   "id": "a61cd929-32b3-4ae9-af0b-7a5069c8021f",
   "metadata": {},
   "outputs": [
    {
     "name": "stdout",
     "output_type": "stream",
     "text": [
      "yes key exist\n"
     ]
    }
   ],
   "source": [
    "if \"age\" in lst:\n",
    "    print(\"yes key exist\")\n",
    "else:\n",
    "    print(\"not exist\")"
   ]
  },
  {
   "cell_type": "code",
   "execution_count": 18,
   "id": "9fe97e4e-353f-422f-aa80-293229c835cb",
   "metadata": {},
   "outputs": [
    {
     "name": "stdout",
     "output_type": "stream",
     "text": [
      "not exist\n"
     ]
    }
   ],
   "source": [
    "if \"group\" in lst:\n",
    "    print(\"yes key exist\")\n",
    "else:\n",
    "    print(\"not exist\")"
   ]
  },
  {
   "cell_type": "code",
   "execution_count": 19,
   "id": "d06cf04a-6e94-4be4-b7f6-555bb3e43b2b",
   "metadata": {},
   "outputs": [],
   "source": [
    "d5={\n",
    "    \"patient_name\":\"john\",\"patient_age\":46,\n",
    "    \"father_details\":{\"patient_fathers_name\":\"william\",\"age\":65},\n",
    "    \"mother_details\":{\"patient_mother_name\":\"rose\",\"age\":58},\n",
    "    }\n"
   ]
  },
  {
   "cell_type": "code",
   "execution_count": 20,
   "id": "654bcbbd-c653-4d77-a86b-e7ad06b4d233",
   "metadata": {},
   "outputs": [
    {
     "name": "stdout",
     "output_type": "stream",
     "text": [
      "{'patient_name': 'john', 'patient_age': 46, 'father_details': {'patient_fathers_name': 'william', 'age': 65}, 'mother_details': {'patient_mother_name': 'rose', 'age': 58}}\n"
     ]
    }
   ],
   "source": [
    "print(d5)"
   ]
  },
  {
   "cell_type": "code",
   "execution_count": 21,
   "id": "4b48da85-5b2a-452a-8187-4d7e4e834d06",
   "metadata": {},
   "outputs": [
    {
     "name": "stdout",
     "output_type": "stream",
     "text": [
      "patient_name john\n",
      "patient_age 46\n",
      "father_details {'patient_fathers_name': 'william', 'age': 65}\n",
      "mother_details {'patient_mother_name': 'rose', 'age': 58}\n"
     ]
    }
   ],
   "source": [
    "for i,j in d5.items():\n",
    "    print(i,j)\n",
    "    "
   ]
  },
  {
   "cell_type": "code",
   "execution_count": 22,
   "id": "a956195f-dc8d-49db-85c1-06188c645a41",
   "metadata": {},
   "outputs": [],
   "source": [
    "d6={\n",
    "    \"patient_name\":\"john\",\"patient_age\":46,\n",
    "    \"father_details\":{\"patient_fathers_name\":\"william\",\"age\":65},\n",
    "    \"mother_details\":{\"patient_mother_name\":\"rose\",\"age\":58},\n",
    "    }"
   ]
  },
  {
   "cell_type": "code",
   "execution_count": 23,
   "id": "2af60938-9f98-4bed-9c25-3e09417a93bd",
   "metadata": {},
   "outputs": [],
   "source": [
    "d7={\n",
    "    \"father_details\":{\"patient_fathers_name\":\"william\",\"age\":65},\n",
    "    \"mother_details\":{\"patient_mother_name\":\"rose\",\"age\":58},\n",
    "    }"
   ]
  },
  {
   "cell_type": "code",
   "execution_count": 24,
   "id": "28c77b09-9ca3-4346-9e7e-eb0bd37d6e45",
   "metadata": {},
   "outputs": [],
   "source": [
    "d6.update(d7)"
   ]
  },
  {
   "cell_type": "code",
   "execution_count": 25,
   "id": "0552a7d2-838d-4cb4-8842-a34bbf182cbc",
   "metadata": {},
   "outputs": [
    {
     "data": {
      "text/plain": [
       "{'patient_name': 'john',\n",
       " 'patient_age': 46,\n",
       " 'father_details': {'patient_fathers_name': 'william', 'age': 65},\n",
       " 'mother_details': {'patient_mother_name': 'rose', 'age': 58}}"
      ]
     },
     "execution_count": 25,
     "metadata": {},
     "output_type": "execute_result"
    }
   ],
   "source": [
    "d6"
   ]
  },
  {
   "cell_type": "code",
   "execution_count": 26,
   "id": "27e8bf10-5b64-40b8-81ae-d46a4cf94c60",
   "metadata": {},
   "outputs": [
    {
     "name": "stdout",
     "output_type": "stream",
     "text": [
      "False\n"
     ]
    }
   ],
   "source": [
    "print(d6==d7)"
   ]
  },
  {
   "cell_type": "code",
   "execution_count": 27,
   "id": "78156dc1-6fc4-4267-84ed-d4e5931d5b10",
   "metadata": {},
   "outputs": [
    {
     "data": {
      "text/plain": [
       "{'patient_name': 'john',\n",
       " 'patient_age': 46,\n",
       " 'father_details': {'patient_fathers_name': 'william', 'age': 65},\n",
       " 'mother_details': {'patient_mother_name': 'rose', 'age': 58},\n",
       " 'patient_mother_name': 'maria'}"
      ]
     },
     "execution_count": 27,
     "metadata": {},
     "output_type": "execute_result"
    }
   ],
   "source": [
    "d5[\"patient_mother_name\"]=\"maria\"\n",
    "d5"
   ]
  },
  {
   "cell_type": "code",
   "execution_count": 28,
   "id": "dea9b7cb-d6a3-4c2c-a85e-5a1f8882cc1c",
   "metadata": {},
   "outputs": [
    {
     "data": {
      "text/plain": [
       "'maria'"
      ]
     },
     "execution_count": 28,
     "metadata": {},
     "output_type": "execute_result"
    }
   ],
   "source": [
    "d5.pop(\"patient_mother_name\")"
   ]
  },
  {
   "cell_type": "code",
   "execution_count": 29,
   "id": "58213976-e221-46ef-970e-b2f5c1987609",
   "metadata": {},
   "outputs": [
    {
     "data": {
      "text/plain": [
       "{'patient_name': 'john',\n",
       " 'patient_age': 46,\n",
       " 'father_details': {'patient_fathers_name': 'william', 'age': 65},\n",
       " 'mother_details': {'patient_mother_name': 'rose', 'age': 58}}"
      ]
     },
     "execution_count": 29,
     "metadata": {},
     "output_type": "execute_result"
    }
   ],
   "source": [
    "d5"
   ]
  },
  {
   "cell_type": "code",
   "execution_count": 30,
   "id": "6946ebdc-ae8a-416d-820b-7fa1575a0dc3",
   "metadata": {},
   "outputs": [
    {
     "data": {
      "text/plain": [
       "('mother_details', {'patient_mother_name': 'rose', 'age': 58})"
      ]
     },
     "execution_count": 30,
     "metadata": {},
     "output_type": "execute_result"
    }
   ],
   "source": [
    "d5.popitem()"
   ]
  },
  {
   "cell_type": "code",
   "execution_count": 31,
   "id": "a8f10f96-3b3b-4231-bd4d-f1e977066da0",
   "metadata": {},
   "outputs": [
    {
     "data": {
      "text/plain": [
       "{'patient_name': 'john',\n",
       " 'patient_age': 46,\n",
       " 'father_details': {'patient_fathers_name': 'william', 'age': 65}}"
      ]
     },
     "execution_count": 31,
     "metadata": {},
     "output_type": "execute_result"
    }
   ],
   "source": [
    "d5"
   ]
  },
  {
   "cell_type": "markdown",
   "id": "f504a319-8af1-4dfe-b5e6-6ac8b74802c3",
   "metadata": {},
   "source": [
    "# dictionary comprehension\n",
    "{x:x**3 for x in range(5)}"
   ]
  },
  {
   "cell_type": "code",
   "execution_count": 33,
   "id": "1ad6c256-d6ce-4800-8319-e992607a4b24",
   "metadata": {},
   "outputs": [
    {
     "name": "stdout",
     "output_type": "stream",
     "text": [
      "{64, 1, 8, 27, 125}\n"
     ]
    }
   ],
   "source": [
    "n={1,2,3,4,5}\n",
    "m={n**3 for n in range  (1,6)}\n",
    "print(m)"
   ]
  },
  {
   "cell_type": "code",
   "execution_count": 34,
   "id": "ae0a6d72-8683-4ad3-b59e-01e8dcf6499f",
   "metadata": {},
   "outputs": [
    {
     "name": "stdout",
     "output_type": "stream",
     "text": [
      "{0: 0, 1: 1, 2: 8, 3: 27, 4: 64, 5: 125}\n"
     ]
    }
   ],
   "source": [
    "y={d: d**3 for d in range(6)}\n",
    "print(y)"
   ]
  },
  {
   "cell_type": "code",
   "execution_count": 35,
   "id": "98732eb4-94b9-44a1-8855-e8689d3b7ddd",
   "metadata": {},
   "outputs": [
    {
     "name": "stdout",
     "output_type": "stream",
     "text": [
      "{0: True, 1: False, 2: True, 3: False, 4: True, 5: False, 6: True, 7: False, 8: True, 9: False}\n"
     ]
    }
   ],
   "source": [
    "z={d: d%2==0 for d in range(10)}\n",
    "print(z)"
   ]
  },
  {
   "cell_type": "code",
   "execution_count": 36,
   "id": "266623aa-b8c1-446f-a9d3-6b9e38f95109",
   "metadata": {},
   "outputs": [],
   "source": [
    "d5={\n",
    "    \"patient_name\":\"john\",\"patient_age\":46,\n",
    "    \"father_details\":{\"patient_fathers_name\":\"william\",\"age\":65},\n",
    "    \"mother_details\":{\"patient_mother_name\":\"rose\",\"age\":58},\n",
    "    }"
   ]
  },
  {
   "cell_type": "code",
   "execution_count": 37,
   "id": "45f03389-af8b-4da2-b85b-b7db4885d8e8",
   "metadata": {},
   "outputs": [],
   "source": [
    "value_length={k:len(str(v)) for k,v in d5.items()}"
   ]
  },
  {
   "cell_type": "code",
   "execution_count": 38,
   "id": "e956888a-ec0e-434a-b2ba-7a84cb8d9ade",
   "metadata": {},
   "outputs": [
    {
     "data": {
      "text/plain": [
       "{'patient_name': 4,\n",
       " 'patient_age': 2,\n",
       " 'father_details': 46,\n",
       " 'mother_details': 42}"
      ]
     },
     "execution_count": 38,
     "metadata": {},
     "output_type": "execute_result"
    }
   ],
   "source": [
    "value_length"
   ]
  },
  {
   "cell_type": "code",
   "execution_count": 39,
   "id": "7dd5b646-c5f1-409b-94fc-dc137cd6e2f3",
   "metadata": {},
   "outputs": [],
   "source": [
    "# clear will create a empty dictionary"
   ]
  },
  {
   "cell_type": "code",
   "execution_count": 40,
   "id": "8fea0d1a-1c78-4181-aa71-71cfb8f2936f",
   "metadata": {},
   "outputs": [
    {
     "data": {
      "text/plain": [
       "{}"
      ]
     },
     "execution_count": 40,
     "metadata": {},
     "output_type": "execute_result"
    }
   ],
   "source": [
    "d={\"Name\":\"ashu\",\"age\":21,\"grade\":87.5,\"pass\":True}\n",
    "d.clear()\n",
    "d"
   ]
  },
  {
   "cell_type": "code",
   "execution_count": 41,
   "id": "df8e3bcf-a70e-41fb-8962-9c7f61ec570a",
   "metadata": {},
   "outputs": [
    {
     "data": {
      "text/plain": [
       "{'Name': 'ashu', 'age': 21, 'grade': 87.5, 'pass': True}"
      ]
     },
     "execution_count": 41,
     "metadata": {},
     "output_type": "execute_result"
    }
   ],
   "source": [
    "d={\"Name\":\"ashu\",\"age\":21,\"grade\":87.5,\"pass\":True}\n",
    "d.copy()\n",
    "d"
   ]
  },
  {
   "cell_type": "code",
   "execution_count": 89,
   "id": "37f78104-135c-4909-9881-089100c839f4",
   "metadata": {},
   "outputs": [
    {
     "name": "stdout",
     "output_type": "stream",
     "text": [
      "None\n"
     ]
    }
   ],
   "source": [
    "x={\"Name\":\"ashu\",\"age\":21}#fetch non_existent\n",
    "print(x.get(\"group\"))"
   ]
  },
  {
   "cell_type": "code",
   "execution_count": 91,
   "id": "69841173-7134-459f-b33d-9f38a166f02a",
   "metadata": {},
   "outputs": [
    {
     "name": "stdout",
     "output_type": "stream",
     "text": [
      "ashu\n"
     ]
    }
   ],
   "source": [
    "x={\"Name\":\"ashu\",\"age\":21}\n",
    "print(x.get(\"Name\"))"
   ]
  },
  {
   "cell_type": "code",
   "execution_count": 103,
   "id": "210e4a66-6313-46ce-8b36-9a75d8dbbe7f",
   "metadata": {},
   "outputs": [
    {
     "name": "stdout",
     "output_type": "stream",
     "text": [
      "{'hello': 100, 'how': 100, 'are': 100, 'you': 100}\n"
     ]
    }
   ],
   "source": [
    "a=[\"hello\",\"how\",\"are\",\"you\"]\n",
    "b=100\n",
    "c=dict.fromkeys(a,b)\n",
    "print(c)"
   ]
  },
  {
   "cell_type": "code",
   "execution_count": 109,
   "id": "fa93faca-25b7-4146-bd82-b07b96e41f05",
   "metadata": {},
   "outputs": [
    {
     "name": "stdout",
     "output_type": "stream",
     "text": [
      "(<class 'dict'>, {'hello': 1, 'how': 2, 'are': 3, 'you': 4})\n"
     ]
    }
   ],
   "source": [
    "#merge two list with dict\n",
    "a=[\"hello\",\"how\",\"are\",\"you\"]\n",
    "b=[1,2,3,4]\n",
    "d={k:v for k,v in zip(a,b)}\n",
    "print((type(d),d))"
   ]
  },
  {
   "cell_type": "code",
   "execution_count": 117,
   "id": "64cafd35-da05-4b75-9717-a5fff580451c",
   "metadata": {},
   "outputs": [
    {
     "data": {
      "text/plain": [
       "{(101, 'john'): ['o+', 'Bp'], (102, 'penny'): ['B+', 'flu']}"
      ]
     },
     "execution_count": 117,
     "metadata": {},
     "output_type": "execute_result"
    }
   ],
   "source": [
    "patient_vist=\n",
    "{\n",
    "    (101,\"john\"):[\"o+\",\"Bp\"],\n",
    "    (102,\"penny\"):[\"B+\",\"flu\"]\n",
    "}\n",
    "patient_vist"
   ]
  },
  {
   "cell_type": "code",
   "execution_count": null,
   "id": "6a86fd35-6833-476a-9777-95c31f2643f2",
   "metadata": {},
   "outputs": [],
   "source": []
  }
 ],
 "metadata": {
  "kernelspec": {
   "display_name": "Python [conda env:base] *",
   "language": "python",
   "name": "conda-base-py"
  },
  "language_info": {
   "codemirror_mode": {
    "name": "ipython",
    "version": 3
   },
   "file_extension": ".py",
   "mimetype": "text/x-python",
   "name": "python",
   "nbconvert_exporter": "python",
   "pygments_lexer": "ipython3",
   "version": "3.12.7"
  }
 },
 "nbformat": 4,
 "nbformat_minor": 5
}
